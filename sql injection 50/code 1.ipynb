{
 "cells": [
  {
   "cell_type": "markdown",
   "metadata": {},
   "source": [
    "## EDA\n",
    "\n",
    "We will perform EDA on the dataset of SQL injection available on Kaggle: [dataset_link](https://www.kaggle.com/sajid576/sql-injection-dataset)"
   ]
  },
  {
   "cell_type": "code",
   "execution_count": 1,
   "metadata": {
    "execution": {
     "iopub.execute_input": "2021-12-04T03:51:42.363029Z",
     "iopub.status.busy": "2021-12-04T03:51:42.362594Z",
     "iopub.status.idle": "2021-12-04T03:51:42.494570Z",
     "shell.execute_reply": "2021-12-04T03:51:42.493624Z",
     "shell.execute_reply.started": "2021-12-04T03:51:42.362982Z"
    }
   },
   "outputs": [
    {
     "name": "stdout",
     "output_type": "stream",
     "text": [
      "<class 'pandas.core.frame.DataFrame'>\n",
      "RangeIndex: 30919 entries, 0 to 30918\n",
      "Data columns (total 2 columns):\n",
      " #   Column  Non-Null Count  Dtype \n",
      "---  ------  --------------  ----- \n",
      " 0   Query   30919 non-null  object\n",
      " 1   Label   30919 non-null  int64 \n",
      "dtypes: int64(1), object(1)\n",
      "memory usage: 483.2+ KB\n"
     ]
    }
   ],
   "source": [
    "import numpy as np\n",
    "import pandas as pd\n",
    "\n",
    "import pandas as pd\n",
    "\n",
    "raw_dataset = pd.read_csv('Modified_SQL_Dataset.csv', encoding='ISO-8859-1')\n",
    "\n",
    "\n",
    "# Display information about the dataset\n",
    "raw_dataset.info()\n"
   ]
  },
  {
   "cell_type": "markdown",
   "metadata": {},
   "source": [
    "There are no null/missing values in the dataset.  \n",
    "We have two columns:\n",
    "1. **Query**: SQL query\n",
    "2. **Label**: 1 if injection 0 otherwise"
   ]
  },
  {
   "cell_type": "code",
   "execution_count": 2,
   "metadata": {
    "execution": {
     "iopub.execute_input": "2021-12-04T03:51:42.496194Z",
     "iopub.status.busy": "2021-12-04T03:51:42.495937Z",
     "iopub.status.idle": "2021-12-04T03:51:42.511578Z",
     "shell.execute_reply": "2021-12-04T03:51:42.510592Z",
     "shell.execute_reply.started": "2021-12-04T03:51:42.496163Z"
    }
   },
   "outputs": [
    {
     "data": {
      "text/html": [
       "<div>\n",
       "<style scoped>\n",
       "    .dataframe tbody tr th:only-of-type {\n",
       "        vertical-align: middle;\n",
       "    }\n",
       "\n",
       "    .dataframe tbody tr th {\n",
       "        vertical-align: top;\n",
       "    }\n",
       "\n",
       "    .dataframe thead th {\n",
       "        text-align: right;\n",
       "    }\n",
       "</style>\n",
       "<table border=\"1\" class=\"dataframe\">\n",
       "  <thead>\n",
       "    <tr style=\"text-align: right;\">\n",
       "      <th></th>\n",
       "      <th>Query</th>\n",
       "      <th>Label</th>\n",
       "    </tr>\n",
       "  </thead>\n",
       "  <tbody>\n",
       "    <tr>\n",
       "      <th>0</th>\n",
       "      <td>\" or pg_sleep  (  __TIME__  )  --</td>\n",
       "      <td>1</td>\n",
       "    </tr>\n",
       "    <tr>\n",
       "      <th>1</th>\n",
       "      <td>create user name identified by pass123 tempora...</td>\n",
       "      <td>1</td>\n",
       "    </tr>\n",
       "    <tr>\n",
       "      <th>2</th>\n",
       "      <td>AND 1  =  utl_inaddr.get_host_address   (    ...</td>\n",
       "      <td>1</td>\n",
       "    </tr>\n",
       "    <tr>\n",
       "      <th>3</th>\n",
       "      <td>select * from users where id  =  '1' or @ @1 ...</td>\n",
       "      <td>1</td>\n",
       "    </tr>\n",
       "    <tr>\n",
       "      <th>4</th>\n",
       "      <td>select * from users where id  =  1 or 1#\"  ( ...</td>\n",
       "      <td>1</td>\n",
       "    </tr>\n",
       "  </tbody>\n",
       "</table>\n",
       "</div>"
      ],
      "text/plain": [
       "                                               Query  Label\n",
       "0                  \" or pg_sleep  (  __TIME__  )  --      1\n",
       "1  create user name identified by pass123 tempora...      1\n",
       "2   AND 1  =  utl_inaddr.get_host_address   (    ...      1\n",
       "3   select * from users where id  =  '1' or @ @1 ...      1\n",
       "4   select * from users where id  =  1 or 1#\"  ( ...      1"
      ]
     },
     "execution_count": 2,
     "metadata": {},
     "output_type": "execute_result"
    }
   ],
   "source": [
    "raw_dataset.head() # Display information from top onwards"
   ]
  },
  {
   "cell_type": "code",
   "execution_count": 3,
   "metadata": {},
   "outputs": [
    {
     "data": {
      "text/html": [
       "<div>\n",
       "<style scoped>\n",
       "    .dataframe tbody tr th:only-of-type {\n",
       "        vertical-align: middle;\n",
       "    }\n",
       "\n",
       "    .dataframe tbody tr th {\n",
       "        vertical-align: top;\n",
       "    }\n",
       "\n",
       "    .dataframe thead th {\n",
       "        text-align: right;\n",
       "    }\n",
       "</style>\n",
       "<table border=\"1\" class=\"dataframe\">\n",
       "  <thead>\n",
       "    <tr style=\"text-align: right;\">\n",
       "      <th></th>\n",
       "      <th>Query</th>\n",
       "      <th>Label</th>\n",
       "    </tr>\n",
       "  </thead>\n",
       "  <tbody>\n",
       "    <tr>\n",
       "      <th>30914</th>\n",
       "      <td>DELETE FROM door WHERE grow = 'small'</td>\n",
       "      <td>0</td>\n",
       "    </tr>\n",
       "    <tr>\n",
       "      <th>30915</th>\n",
       "      <td>DELETE FROM tomorrow</td>\n",
       "      <td>0</td>\n",
       "    </tr>\n",
       "    <tr>\n",
       "      <th>30916</th>\n",
       "      <td>SELECT wide ( s )  FROM west</td>\n",
       "      <td>0</td>\n",
       "    </tr>\n",
       "    <tr>\n",
       "      <th>30917</th>\n",
       "      <td>SELECT * FROM  ( SELECT slide FROM breath )</td>\n",
       "      <td>0</td>\n",
       "    </tr>\n",
       "    <tr>\n",
       "      <th>30918</th>\n",
       "      <td>SELECT TOP 3 * FROM race</td>\n",
       "      <td>0</td>\n",
       "    </tr>\n",
       "  </tbody>\n",
       "</table>\n",
       "</div>"
      ],
      "text/plain": [
       "                                              Query  Label\n",
       "30914         DELETE FROM door WHERE grow = 'small'      0\n",
       "30915                          DELETE FROM tomorrow      0\n",
       "30916                  SELECT wide ( s )  FROM west      0\n",
       "30917  SELECT * FROM  ( SELECT slide FROM breath )       0\n",
       "30918                      SELECT TOP 3 * FROM race      0"
      ]
     },
     "execution_count": 3,
     "metadata": {},
     "output_type": "execute_result"
    }
   ],
   "source": [
    "raw_dataset.tail()# Display information from bottom onwords"
   ]
  },
  {
   "cell_type": "code",
   "execution_count": 4,
   "metadata": {},
   "outputs": [
    {
     "data": {
      "text/plain": [
       "Query    0\n",
       "Label    0\n",
       "dtype: int64"
      ]
     },
     "execution_count": 4,
     "metadata": {},
     "output_type": "execute_result"
    }
   ],
   "source": [
    "raw_dataset.isnull().sum()#is used to check the missing values in your dataset"
   ]
  },
  {
   "cell_type": "code",
   "execution_count": 5,
   "metadata": {},
   "outputs": [
    {
     "data": {
      "text/plain": [
       "Query    0\n",
       "Label    0\n",
       "dtype: int64"
      ]
     },
     "execution_count": 5,
     "metadata": {},
     "output_type": "execute_result"
    }
   ],
   "source": [
    "raw_dataset.isna().sum()#is used to check the missing values in your dataset"
   ]
  },
  {
   "cell_type": "code",
   "execution_count": 6,
   "metadata": {
    "execution": {
     "iopub.execute_input": "2021-12-04T03:51:42.514250Z",
     "iopub.status.busy": "2021-12-04T03:51:42.513520Z",
     "iopub.status.idle": "2021-12-04T03:51:42.762220Z",
     "shell.execute_reply": "2021-12-04T03:51:42.761398Z",
     "shell.execute_reply.started": "2021-12-04T03:51:42.514204Z"
    }
   },
   "outputs": [
    {
     "data": {
      "text/plain": [
       "<Axes: xlabel='Label'>"
      ]
     },
     "execution_count": 6,
     "metadata": {},
     "output_type": "execute_result"
    },
    {
     "data": {
      "image/png": "[encoded data removed]",
      "text/plain": [
       "<Figure size 640x480 with 1 Axes>"
      ]
     },
     "metadata": {},
     "output_type": "display_data"
    }
   ],
   "source": [
    "raw_dataset['Label'].value_counts().plot(kind='bar')\n",
    "#You’ll get a bar plot with two bars, one for 'safe' and one for 'vulnerable', showing their counts."
   ]
  },
  {
   "cell_type": "markdown",
   "metadata": {},
   "source": [
    "**Positive class** - 11382  \n",
    "**Negative class** - 19537  \n",
    "Dataset is imbalanced with popsitive to negative class ratio of 37:63 (~ 4:7)"
   ]
  },
  {
   "cell_type": "markdown",
   "metadata": {},
   "source": [
    "### Duplicate removal"
   ]
  },
  {
   "cell_type": "code",
   "execution_count": 7,
   "metadata": {},
   "outputs": [
    {
     "data": {
      "text/html": [
       "<div>\n",
       "<style scoped>\n",
       "    .dataframe tbody tr th:only-of-type {\n",
       "        vertical-align: middle;\n",
       "    }\n",
       "\n",
       "    .dataframe tbody tr th {\n",
       "        vertical-align: top;\n",
       "    }\n",
       "\n",
       "    .dataframe thead th {\n",
       "        text-align: right;\n",
       "    }\n",
       "</style>\n",
       "<table border=\"1\" class=\"dataframe\">\n",
       "  <thead>\n",
       "    <tr style=\"text-align: right;\">\n",
       "      <th></th>\n",
       "      <th>Query</th>\n",
       "      <th>Label</th>\n",
       "    </tr>\n",
       "  </thead>\n",
       "  <tbody>\n",
       "    <tr>\n",
       "      <th>656</th>\n",
       "      <td>#NAME?</td>\n",
       "      <td>1</td>\n",
       "    </tr>\n",
       "    <tr>\n",
       "      <th>866</th>\n",
       "      <td>#NAME?</td>\n",
       "      <td>1</td>\n",
       "    </tr>\n",
       "    <tr>\n",
       "      <th>15635</th>\n",
       "      <td>#NAME?</td>\n",
       "      <td>0</td>\n",
       "    </tr>\n",
       "    <tr>\n",
       "      <th>17913</th>\n",
       "      <td>#NAME?</td>\n",
       "      <td>0</td>\n",
       "    </tr>\n",
       "    <tr>\n",
       "      <th>13532</th>\n",
       "      <td>#NAME?</td>\n",
       "      <td>0</td>\n",
       "    </tr>\n",
       "    <tr>\n",
       "      <th>...</th>\n",
       "      <td>...</td>\n",
       "      <td>...</td>\n",
       "    </tr>\n",
       "    <tr>\n",
       "      <th>13214</th>\n",
       "      <td>9.55E+15</td>\n",
       "      <td>0</td>\n",
       "    </tr>\n",
       "    <tr>\n",
       "      <th>13355</th>\n",
       "      <td>9.77E+15</td>\n",
       "      <td>0</td>\n",
       "    </tr>\n",
       "    <tr>\n",
       "      <th>16946</th>\n",
       "      <td>9.77E+15</td>\n",
       "      <td>0</td>\n",
       "    </tr>\n",
       "    <tr>\n",
       "      <th>17760</th>\n",
       "      <td>9.83E+15</td>\n",
       "      <td>0</td>\n",
       "    </tr>\n",
       "    <tr>\n",
       "      <th>18557</th>\n",
       "      <td>9.83E+15</td>\n",
       "      <td>0</td>\n",
       "    </tr>\n",
       "  </tbody>\n",
       "</table>\n",
       "<p>287 rows × 2 columns</p>\n",
       "</div>"
      ],
      "text/plain": [
       "          Query  Label\n",
       "656      #NAME?      1\n",
       "866      #NAME?      1\n",
       "15635    #NAME?      0\n",
       "17913    #NAME?      0\n",
       "13532    #NAME?      0\n",
       "...         ...    ...\n",
       "13214  9.55E+15      0\n",
       "13355  9.77E+15      0\n",
       "16946  9.77E+15      0\n",
       "17760  9.83E+15      0\n",
       "18557  9.83E+15      0\n",
       "\n",
       "[287 rows x 2 columns]"
      ]
     },
     "execution_count": 7,
     "metadata": {},
     "output_type": "execute_result"
    }
   ],
   "source": [
    "raw_dataset[raw_dataset.duplicated(keep=False)].sort_values(by=['Query'])\n",
    "#is used to identify and sort duplicate rows in your dataset based on the 'Query' column. "
   ]
  },
  {
   "cell_type": "markdown",
   "metadata": {},
   "source": [
    "* Here we have found 20 duplicate values.\n",
    "* All values looks like number and not like SQL query.\n",
    "* Let us remove all the datapoints."
   ]
  },
  {
   "cell_type": "code",
   "execution_count": 8,
   "metadata": {},
   "outputs": [],
   "source": [
    "raw_dataset.drop_duplicates(keep=False, inplace=True)# is used to remove duplicate rows from your dataset. "
   ]
  },
  {
   "cell_type": "code",
   "execution_count": 9,
   "metadata": {},
   "outputs": [
    {
     "data": {
      "text/plain": [
       "(30632, 2)"
      ]
     },
     "execution_count": 9,
     "metadata": {},
     "output_type": "execute_result"
    }
   ],
   "source": [
    "raw_dataset.shape\n",
    "#is used to get the dimensions of your dataset, i.e., the number of rows and columns in your DataFrame."
   ]
  },
  {
   "cell_type": "markdown",
   "metadata": {},
   "source": [
    "## Data Cleaning"
   ]
  },
  {
   "cell_type": "markdown",
   "metadata": {},
   "source": [
    "We have so many white spaces in the queries and multiple special characters.  \n",
    "We can try to train model by removing the special characters.  \n",
    "If this does not work, we can include special characters afterwards.  \n",
    "Let's create two datasets one with and other without special characters.  \n",
    "This all are SQL queries so no need to remove stop words."
   ]
  },
  {
   "cell_type": "code",
   "execution_count": 10,
   "metadata": {
    "execution": {
     "iopub.execute_input": "2021-12-04T03:51:48.956840Z",
     "iopub.status.busy": "2021-12-04T03:51:48.955855Z",
     "iopub.status.idle": "2021-12-04T03:51:48.960850Z",
     "shell.execute_reply": "2021-12-04T03:51:48.959886Z",
     "shell.execute_reply.started": "2021-12-04T03:51:48.956801Z"
    }
   },
   "outputs": [],
   "source": [
    "import re\n",
    "#The re module allows you to work with pattern matching, searching, and replacing text using regular expressions."
   ]
  },
  {
   "cell_type": "code",
   "execution_count": 11,
   "metadata": {
    "execution": {
     "iopub.execute_input": "2021-12-04T03:51:48.962920Z",
     "iopub.status.busy": "2021-12-04T03:51:48.962316Z",
     "iopub.status.idle": "2021-12-04T03:51:48.977718Z",
     "shell.execute_reply": "2021-12-04T03:51:48.976419Z",
     "shell.execute_reply.started": "2021-12-04T03:51:48.962872Z"
    }
   },
   "outputs": [
    {
     "data": {
      "text/plain": [
       "\"1'||  (  select 'rjis' from dual where 7696  =  7696 and 3754  =    (  select upper  (  xmltype  (  chr  (  60  )  ||chr  (  58  )  ||chr  (  113  )  ||chr  (  113  )  ||chr  (  112  )  ||chr  (  106  )  ||chr  (  113  )  ||  (  select   (  case when   (  3754  =  3754  )   then 1 else 0 end  )   from dual  )  ||chr  (  113  )  ||chr  (  122  )  ||chr  (  118  )  ||chr  (  122  )  ||chr  (  113  )  ||chr  (  62   )    )     )   from dual   )    )   ||'\""
      ]
     },
     "execution_count": 11,
     "metadata": {},
     "output_type": "execute_result"
    }
   ],
   "source": [
    "sample_query = raw_dataset['Query'][9780]\n",
    "sample_query #is used to extract a specific SQL query from your dataset."
   ]
  },
  {
   "cell_type": "code",
   "execution_count": 12,
   "metadata": {
    "execution": {
     "iopub.execute_input": "2021-12-04T03:51:48.979482Z",
     "iopub.status.busy": "2021-12-04T03:51:48.979145Z",
     "iopub.status.idle": "2021-12-04T03:51:48.989646Z",
     "shell.execute_reply": "2021-12-04T03:51:48.988618Z",
     "shell.execute_reply.started": "2021-12-04T03:51:48.979453Z"
    }
   },
   "outputs": [
    {
     "name": "stdout",
     "output_type": "stream",
     "text": [
      "1'|| ( select 'rjis' from dual where 7696 = 7696 and 3754 = ( select upper ( xmltype ( chr ( 60 ) ||chr ( 58 ) ||chr ( 113 ) ||chr ( 113 ) ||chr ( 112 ) ||chr ( 106 ) ||chr ( 113 ) || ( select ( case when ( 3754 = 3754 ) then 1 else 0 end ) from dual ) ||chr ( 113 ) ||chr ( 122 ) ||chr ( 118 ) ||chr ( 122 ) ||chr ( 113 ) ||chr ( 62 ) ) ) from dual ) ) ||'\n"
     ]
    }
   ],
   "source": [
    "def remove_spaces(input_string):\n",
    "    cleaned = re.sub('\\s{2,}',' ',input_string)\n",
    "    return cleaned.lower().strip()\n",
    "\n",
    "print(remove_spaces(sample_query))\n",
    "#is designed to clean up extra spaces in a given string \n",
    "# while also converting it to lowercase and stripping leading/trailing spaces."
   ]
  },
  {
   "cell_type": "code",
   "execution_count": 13,
   "metadata": {
    "execution": {
     "iopub.execute_input": "2021-12-04T03:51:48.991408Z",
     "iopub.status.busy": "2021-12-04T03:51:48.991027Z",
     "iopub.status.idle": "2021-12-04T03:51:49.003149Z",
     "shell.execute_reply": "2021-12-04T03:51:49.002474Z",
     "shell.execute_reply.started": "2021-12-04T03:51:48.991363Z"
    }
   },
   "outputs": [
    {
     "name": "stdout",
     "output_type": "stream",
     "text": [
      "1 select rjis from dual where 7696 7696 and 3754 select upper xmltype chr 60 chr 58 chr 113 chr 113 chr 112 chr 106 chr 113 select case when 3754 3754 then 1 else 0 end from dual chr 113 chr 122 chr 118 chr 122 chr 113 chr 62 from dual\n"
     ]
    }
   ],
   "source": [
    "def clean_all(input_string):\n",
    "    cleaned = re.sub('[^a-zA-Z0-9\\s]',' ',input_string)\n",
    "    cleaned = re.sub('\\s{2,}',' ',cleaned)\n",
    "    return cleaned.lower().strip()\n",
    "print(clean_all(sample_query))\n",
    "#is designed to clean SQL queries by:\n",
    "#1️ Removing special characters (except letters, numbers, and spaces).\n",
    "#2️ Replacing multiple spaces with a single space.\n",
    "#3️ Converting the text to lowercase and stripping leading/trailing spaces."
   ]
  },
  {
   "cell_type": "code",
   "execution_count": 14,
   "metadata": {
    "execution": {
     "iopub.execute_input": "2021-12-04T03:51:49.025351Z",
     "iopub.status.busy": "2021-12-04T03:51:49.024979Z",
     "iopub.status.idle": "2021-12-04T03:51:49.236207Z",
     "shell.execute_reply": "2021-12-04T03:51:49.235404Z",
     "shell.execute_reply.started": "2021-12-04T03:51:49.025306Z"
    }
   },
   "outputs": [
    {
     "data": {
      "text/html": [
       "<div>\n",
       "<style scoped>\n",
       "    .dataframe tbody tr th:only-of-type {\n",
       "        vertical-align: middle;\n",
       "    }\n",
       "\n",
       "    .dataframe tbody tr th {\n",
       "        vertical-align: top;\n",
       "    }\n",
       "\n",
       "    .dataframe thead th {\n",
       "        text-align: right;\n",
       "    }\n",
       "</style>\n",
       "<table border=\"1\" class=\"dataframe\">\n",
       "  <thead>\n",
       "    <tr style=\"text-align: right;\">\n",
       "      <th></th>\n",
       "      <th>Query</th>\n",
       "      <th>Label</th>\n",
       "    </tr>\n",
       "  </thead>\n",
       "  <tbody>\n",
       "    <tr>\n",
       "      <th>0</th>\n",
       "      <td>\" or pg_sleep ( __time__ ) --</td>\n",
       "      <td>1</td>\n",
       "    </tr>\n",
       "    <tr>\n",
       "      <th>1</th>\n",
       "      <td>create user name identified by pass123 tempora...</td>\n",
       "      <td>1</td>\n",
       "    </tr>\n",
       "    <tr>\n",
       "      <th>2</th>\n",
       "      <td>and 1 = utl_inaddr.get_host_address ( ( select...</td>\n",
       "      <td>1</td>\n",
       "    </tr>\n",
       "    <tr>\n",
       "      <th>3</th>\n",
       "      <td>select * from users where id = '1' or @ @1 = 1...</td>\n",
       "      <td>1</td>\n",
       "    </tr>\n",
       "    <tr>\n",
       "      <th>4</th>\n",
       "      <td>select * from users where id = 1 or 1#\" ( unio...</td>\n",
       "      <td>1</td>\n",
       "    </tr>\n",
       "  </tbody>\n",
       "</table>\n",
       "</div>"
      ],
      "text/plain": [
       "                                               Query  Label\n",
       "0                      \" or pg_sleep ( __time__ ) --      1\n",
       "1  create user name identified by pass123 tempora...      1\n",
       "2  and 1 = utl_inaddr.get_host_address ( ( select...      1\n",
       "3  select * from users where id = '1' or @ @1 = 1...      1\n",
       "4  select * from users where id = 1 or 1#\" ( unio...      1"
      ]
     },
     "execution_count": 14,
     "metadata": {},
     "output_type": "execute_result"
    }
   ],
   "source": [
    "dataset_with_special_characters = raw_dataset.copy()\n",
    "dataset_with_special_characters['Query'] = dataset_with_special_characters['Query'].apply(remove_spaces)\n",
    "dataset_with_special_characters.head()"
   ]
  },
  {
   "cell_type": "code",
   "execution_count": 15,
   "metadata": {
    "execution": {
     "iopub.execute_input": "2021-12-04T03:51:49.238339Z",
     "iopub.status.busy": "2021-12-04T03:51:49.237474Z",
     "iopub.status.idle": "2021-12-04T03:51:49.614490Z",
     "shell.execute_reply": "2021-12-04T03:51:49.613606Z",
     "shell.execute_reply.started": "2021-12-04T03:51:49.238291Z"
    }
   },
   "outputs": [
    {
     "data": {
      "text/html": [
       "<div>\n",
       "<style scoped>\n",
       "    .dataframe tbody tr th:only-of-type {\n",
       "        vertical-align: middle;\n",
       "    }\n",
       "\n",
       "    .dataframe tbody tr th {\n",
       "        vertical-align: top;\n",
       "    }\n",
       "\n",
       "    .dataframe thead th {\n",
       "        text-align: right;\n",
       "    }\n",
       "</style>\n",
       "<table border=\"1\" class=\"dataframe\">\n",
       "  <thead>\n",
       "    <tr style=\"text-align: right;\">\n",
       "      <th></th>\n",
       "      <th>Query</th>\n",
       "      <th>Label</th>\n",
       "    </tr>\n",
       "  </thead>\n",
       "  <tbody>\n",
       "    <tr>\n",
       "      <th>0</th>\n",
       "      <td>or pg sleep time</td>\n",
       "      <td>1</td>\n",
       "    </tr>\n",
       "    <tr>\n",
       "      <th>1</th>\n",
       "      <td>create user name identified by pass123 tempora...</td>\n",
       "      <td>1</td>\n",
       "    </tr>\n",
       "    <tr>\n",
       "      <th>2</th>\n",
       "      <td>and 1 utl inaddr get host address select disti...</td>\n",
       "      <td>1</td>\n",
       "    </tr>\n",
       "    <tr>\n",
       "      <th>3</th>\n",
       "      <td>select from users where id 1 or 1 1 union sele...</td>\n",
       "      <td>1</td>\n",
       "    </tr>\n",
       "    <tr>\n",
       "      <th>4</th>\n",
       "      <td>select from users where id 1 or 1 union select...</td>\n",
       "      <td>1</td>\n",
       "    </tr>\n",
       "  </tbody>\n",
       "</table>\n",
       "</div>"
      ],
      "text/plain": [
       "                                               Query  Label\n",
       "0                                   or pg sleep time      1\n",
       "1  create user name identified by pass123 tempora...      1\n",
       "2  and 1 utl inaddr get host address select disti...      1\n",
       "3  select from users where id 1 or 1 1 union sele...      1\n",
       "4  select from users where id 1 or 1 union select...      1"
      ]
     },
     "execution_count": 15,
     "metadata": {},
     "output_type": "execute_result"
    }
   ],
   "source": [
    "dataset_all_cleaned = raw_dataset.copy()\n",
    "dataset_all_cleaned['Query'] = dataset_all_cleaned['Query'].apply(clean_all)\n",
    "dataset_all_cleaned.head()"
   ]
  },
  {
   "cell_type": "markdown",
   "metadata": {},
   "source": [
    "Let us see if we have any duplicates after removing special characters."
   ]
  },
  {
   "cell_type": "code",
   "execution_count": 16,
   "metadata": {},
   "outputs": [
    {
     "data": {
      "text/html": [
       "<div>\n",
       "<style scoped>\n",
       "    .dataframe tbody tr th:only-of-type {\n",
       "        vertical-align: middle;\n",
       "    }\n",
       "\n",
       "    .dataframe tbody tr th {\n",
       "        vertical-align: top;\n",
       "    }\n",
       "\n",
       "    .dataframe thead th {\n",
       "        text-align: right;\n",
       "    }\n",
       "</style>\n",
       "<table border=\"1\" class=\"dataframe\">\n",
       "  <thead>\n",
       "    <tr style=\"text-align: right;\">\n",
       "      <th></th>\n",
       "      <th>Query</th>\n",
       "      <th>Label</th>\n",
       "    </tr>\n",
       "  </thead>\n",
       "  <tbody>\n",
       "    <tr>\n",
       "      <th>863</th>\n",
       "      <td></td>\n",
       "      <td>1</td>\n",
       "    </tr>\n",
       "    <tr>\n",
       "      <th>535</th>\n",
       "      <td></td>\n",
       "      <td>1</td>\n",
       "    </tr>\n",
       "    <tr>\n",
       "      <th>856</th>\n",
       "      <td></td>\n",
       "      <td>1</td>\n",
       "    </tr>\n",
       "    <tr>\n",
       "      <th>282</th>\n",
       "      <td></td>\n",
       "      <td>1</td>\n",
       "    </tr>\n",
       "    <tr>\n",
       "      <th>402</th>\n",
       "      <td></td>\n",
       "      <td>1</td>\n",
       "    </tr>\n",
       "    <tr>\n",
       "      <th>...</th>\n",
       "      <td>...</td>\n",
       "      <td>...</td>\n",
       "    </tr>\n",
       "    <tr>\n",
       "      <th>756</th>\n",
       "      <td>x and members email is null</td>\n",
       "      <td>1</td>\n",
       "    </tr>\n",
       "    <tr>\n",
       "      <th>464</th>\n",
       "      <td>x and userid is null</td>\n",
       "      <td>1</td>\n",
       "    </tr>\n",
       "    <tr>\n",
       "      <th>362</th>\n",
       "      <td>x and userid is null</td>\n",
       "      <td>1</td>\n",
       "    </tr>\n",
       "    <tr>\n",
       "      <th>865</th>\n",
       "      <td>x or full name like bob</td>\n",
       "      <td>1</td>\n",
       "    </tr>\n",
       "    <tr>\n",
       "      <th>376</th>\n",
       "      <td>x or full name like bob</td>\n",
       "      <td>1</td>\n",
       "    </tr>\n",
       "  </tbody>\n",
       "</table>\n",
       "<p>3148 rows × 2 columns</p>\n",
       "</div>"
      ],
      "text/plain": [
       "                           Query  Label\n",
       "863                                   1\n",
       "535                                   1\n",
       "856                                   1\n",
       "282                                   1\n",
       "402                                   1\n",
       "..                           ...    ...\n",
       "756  x and members email is null      1\n",
       "464         x and userid is null      1\n",
       "362         x and userid is null      1\n",
       "865      x or full name like bob      1\n",
       "376      x or full name like bob      1\n",
       "\n",
       "[3148 rows x 2 columns]"
      ]
     },
     "execution_count": 16,
     "metadata": {},
     "output_type": "execute_result"
    }
   ],
   "source": [
    "dataset_all_cleaned[dataset_all_cleaned.duplicated(keep=False)].sort_values(by='Query')"
   ]
  },
  {
   "cell_type": "code",
   "execution_count": 17,
   "metadata": {},
   "outputs": [
    {
     "data": {
      "text/plain": [
       "(27873, 2)"
      ]
     },
     "execution_count": 17,
     "metadata": {},
     "output_type": "execute_result"
    }
   ],
   "source": [
    "dataset_all_cleaned.drop_duplicates(keep='first', inplace=True)\n",
    "dataset_all_cleaned.shape"
   ]
  },
  {
   "cell_type": "markdown",
   "metadata": {},
   "source": [
    "**Special Characters Count**  \n",
    "Let's find out if number of special characters in the query has any relation with dependent variable."
   ]
  },
  {
   "cell_type": "code",
   "execution_count": 18,
   "metadata": {},
   "outputs": [
    {
     "data": {
      "text/plain": [
       "count    30632.000000\n",
       "mean         8.027520\n",
       "std         12.393144\n",
       "min          0.000000\n",
       "25%          1.000000\n",
       "50%          4.000000\n",
       "75%         10.000000\n",
       "max        601.000000\n",
       "Name: Query, dtype: float64"
      ]
     },
     "execution_count": 18,
     "metadata": {},
     "output_type": "execute_result"
    }
   ],
   "source": [
    "no_of_special_chars = raw_dataset['Query'].map(lambda x:len(re.findall('[^a-zA-Z0-9\\s]',x)))\n",
    "no_of_special_chars.describe()"
   ]
  },
  {
   "cell_type": "code",
   "execution_count": 19,
   "metadata": {},
   "outputs": [
    {
     "data": {
      "text/plain": [
       "<matplotlib.legend.Legend at 0x2004930e010>"
      ]
     },
     "execution_count": 19,
     "metadata": {},
     "output_type": "execute_result"
    },
    {
     "data": {
      "image/png": "[encoded data removed]",
      "text/plain": [
       "<Figure size 1500x800 with 1 Axes>"
      ]
     },
     "metadata": {},
     "output_type": "display_data"
    }
   ],
   "source": [
    "from matplotlib import pyplot as plt\n",
    "import seaborn as sns\n",
    "fig3, ax_sc = plt.subplots(1, 1, figsize=(15,8))\n",
    "sns.histplot(no_of_special_chars[raw_dataset['Label']==1], ax=ax_sc, color='red', label='Malicious', binrange=(0,100) ,alpha=0.4)\n",
    "sns.histplot(no_of_special_chars[raw_dataset['Label']==0], ax=ax_sc, color='green', label='Nomral', binrange=(0,100))\n",
    "ax_sc.set_title(\"Special Character Distribution\")\n",
    "ax_sc.legend()"
   ]
  },
  {
   "cell_type": "markdown",
   "metadata": {},
   "source": [
    "**NOTE**: Here we can see, Number of special characters in a query has almost sane distribution for normal and malicious queries. This is not a good feature to make classification."
   ]
  },
  {
   "cell_type": "markdown",
   "metadata": {},
   "source": [
    "Let's remove the duplicates and keep the first instance only."
   ]
  },
  {
   "cell_type": "code",
   "execution_count": 20,
   "metadata": {},
   "outputs": [
    {
     "data": {
      "text/plain": [
       "count    27873.000000\n",
       "mean         9.063969\n",
       "std          9.272374\n",
       "min          0.000000\n",
       "25%          3.000000\n",
       "50%          7.000000\n",
       "75%         11.000000\n",
       "max        542.000000\n",
       "Name: Query, dtype: float64"
      ]
     },
     "execution_count": 20,
     "metadata": {},
     "output_type": "execute_result"
    }
   ],
   "source": [
    "query_length = dataset_all_cleaned.Query.map(lambda x:len(x.split()))\n",
    "query_length.describe()"
   ]
  },
  {
   "cell_type": "code",
   "execution_count": 21,
   "metadata": {
    "execution": {
     "iopub.execute_input": "2021-12-04T03:51:42.819798Z",
     "iopub.status.busy": "2021-12-04T03:51:42.819594Z",
     "iopub.status.idle": "2021-12-04T03:51:42.825775Z",
     "shell.execute_reply": "2021-12-04T03:51:42.824824Z",
     "shell.execute_reply.started": "2021-12-04T03:51:42.819773Z"
    }
   },
   "outputs": [],
   "source": [
    "import matplotlib.pyplot as plt\n",
    "import seaborn as sns"
   ]
  },
  {
   "cell_type": "code",
   "execution_count": 22,
   "metadata": {},
   "outputs": [
    {
     "data": {
      "image/png": "[encoded data removed]",
      "text/plain": [
       "<Figure size 1200x1200 with 4 Axes>"
      ]
     },
     "metadata": {},
     "output_type": "display_data"
    }
   ],
   "source": [
    "fig, ((ax1, ax2), (ax3, ax4)) = plt.subplots(2, 2, figsize=(12,12))\n",
    "sns.histplot(query_length, binrange=(0,50), ax=ax1)\n",
    "sns.histplot(query_length, binrange=(50,75), ax=ax2)\n",
    "sns.histplot(query_length, binrange=(75,100), ax=ax3)\n",
    "sns.histplot(query_length, binrange=(100,600), ax=ax4)\n",
    "plt.suptitle(\"Query Length Distribution\");"
   ]
  },
  {
   "cell_type": "code",
   "execution_count": 23,
   "metadata": {
    "execution": {
     "iopub.execute_input": "2021-12-04T03:51:48.748995Z",
     "iopub.status.busy": "2021-12-04T03:51:48.748660Z",
     "iopub.status.idle": "2021-12-04T03:51:48.775415Z",
     "shell.execute_reply": "2021-12-04T03:51:48.774539Z",
     "shell.execute_reply.started": "2021-12-04T03:51:48.748954Z"
    }
   },
   "outputs": [
    {
     "name": "stdout",
     "output_type": "stream",
     "text": [
      "0 words   = 1\n",
      "1 words   = 4797\n",
      "2 words   = 918\n",
      "Less than 5 words   = 9075\n",
      "Less than 10 words  = 18843\n",
      "Less than 15 words  = 23424\n",
      "Less than 50 words  = 27827\n",
      "More than 90 words = 3\n",
      "More than 500 words = 1\n"
     ]
    }
   ],
   "source": [
    "print(\"0 words   =\", (query_length==0).value_counts()[True])\n",
    "print(\"1 words   =\", (query_length==1).value_counts()[True])\n",
    "print(\"2 words   =\", (query_length==2).value_counts()[True])\n",
    "print(\"Less than 5 words   =\", (query_length<5).value_counts()[True])\n",
    "print(\"Less than 10 words  =\", (query_length<10).value_counts()[True])\n",
    "print(\"Less than 15 words  =\", (query_length<15).value_counts()[True])\n",
    "print(\"Less than 50 words  =\", (query_length<50).value_counts()[True])\n",
    "print(\"More than 90 words =\", (query_length>90).value_counts()[True])\n",
    "print(\"More than 500 words =\", (query_length>500).value_counts()[True])"
   ]
  },
  {
   "cell_type": "markdown",
   "metadata": {},
   "source": [
    "Here we have one outlier where we do not have any query.\n",
    "We need to find that and remove from dataset."
   ]
  },
  {
   "cell_type": "code",
   "execution_count": 24,
   "metadata": {
    "execution": {
     "iopub.execute_input": "2021-12-04T03:51:48.777456Z",
     "iopub.status.busy": "2021-12-04T03:51:48.776947Z",
     "iopub.status.idle": "2021-12-04T03:51:48.807590Z",
     "shell.execute_reply": "2021-12-04T03:51:48.806939Z",
     "shell.execute_reply.started": "2021-12-04T03:51:48.777401Z"
    }
   },
   "outputs": [
    {
     "name": "stdout",
     "output_type": "stream",
     "text": [
      "10 percentile for query length = 1.0\n",
      "20 percentile for query length = 2.0\n",
      "30 percentile for query length = 4.0\n",
      "40 percentile for query length = 6.0\n",
      "50 percentile for query length = 7.0\n",
      "60 percentile for query length = 9.0\n",
      "70 percentile for query length = 10.0\n",
      "80 percentile for query length = 13.0\n",
      "90 percentile for query length = 19.0\n",
      "100 percentile for query length = 542.0\n",
      "----------------------------------------\n",
      "91 percentile for query length = 20.0\n",
      "92 percentile for query length = 21.0\n",
      "93 percentile for query length = 22.0\n",
      "94 percentile for query length = 24.0\n",
      "95 percentile for query length = 26.0\n",
      "96 percentile for query length = 30.0\n",
      "97 percentile for query length = 37.0\n",
      "98 percentile for query length = 40.0\n",
      "99 percentile for query length = 43.0\n",
      "100 percentile for query length = 542.0\n",
      "----------------------------------------\n",
      "99.0 percentile for query length = 43.0\n",
      "99.1 percentile for query length = 43.0\n",
      "99.2 percentile for query length = 44.0\n",
      "99.3 percentile for query length = 44.0\n",
      "99.4 percentile for query length = 45.0\n",
      "99.5 percentile for query length = 45.0\n",
      "99.6 percentile for query length = 46.0\n",
      "99.7 percentile for query length = 49.0\n",
      "99.8 percentile for query length = 49.0\n",
      "99.9 percentile for query length = 50.12800000000425\n",
      "100.0 percentile for query length = 542.0\n"
     ]
    }
   ],
   "source": [
    "for per in range(10,101,10):\n",
    "    print(f'{per} percentile for query length = {np.percentile(query_length, per)}')\n",
    "print('-'*40)\n",
    "for per in range(91,101,1):\n",
    "    print(f'{per} percentile for query length = {np.percentile(query_length, per)}')\n",
    "print('-'*40)\n",
    "for per in np.linspace(99,100,11):\n",
    "    print(f'{per} percentile for query length = {np.percentile(query_length, per)}')"
   ]
  },
  {
   "cell_type": "markdown",
   "metadata": {},
   "source": [
    "**Observations**  \n",
    "From histogram, percentiles and other observations for query length:\n",
    "1. 90% of the queries are having 19 or less words.\n",
    "2. 95% of the queries are having 26 or less words.\n",
    "3. Less than 1% of the data have more than 43 words.\n",
    "4. Only one outlier query has 542 words.\n",
    "5. Only one outlier query has 0 words (only space)."
   ]
  },
  {
   "cell_type": "markdown",
   "metadata": {},
   "source": [
    "**Outlier Removal**  \n",
    "Let's remove query with length 0(minimum) and 542(maximum)."
   ]
  },
  {
   "cell_type": "code",
   "execution_count": 25,
   "metadata": {},
   "outputs": [
    {
     "data": {
      "text/html": [
       "<div>\n",
       "<style scoped>\n",
       "    .dataframe tbody tr th:only-of-type {\n",
       "        vertical-align: middle;\n",
       "    }\n",
       "\n",
       "    .dataframe tbody tr th {\n",
       "        vertical-align: top;\n",
       "    }\n",
       "\n",
       "    .dataframe thead th {\n",
       "        text-align: right;\n",
       "    }\n",
       "</style>\n",
       "<table border=\"1\" class=\"dataframe\">\n",
       "  <thead>\n",
       "    <tr style=\"text-align: right;\">\n",
       "      <th></th>\n",
       "      <th>Query</th>\n",
       "      <th>Label</th>\n",
       "    </tr>\n",
       "  </thead>\n",
       "  <tbody>\n",
       "    <tr>\n",
       "      <th>208</th>\n",
       "      <td></td>\n",
       "      <td>1</td>\n",
       "    </tr>\n",
       "  </tbody>\n",
       "</table>\n",
       "</div>"
      ],
      "text/plain": [
       "    Query  Label\n",
       "208            1"
      ]
     },
     "execution_count": 25,
     "metadata": {},
     "output_type": "execute_result"
    }
   ],
   "source": [
    "dataset_all_cleaned[dataset_all_cleaned['Query'].map(lambda x:len(x.split()))==0]"
   ]
  },
  {
   "cell_type": "code",
   "execution_count": 26,
   "metadata": {},
   "outputs": [
    {
     "data": {
      "text/html": [
       "<div>\n",
       "<style scoped>\n",
       "    .dataframe tbody tr th:only-of-type {\n",
       "        vertical-align: middle;\n",
       "    }\n",
       "\n",
       "    .dataframe tbody tr th {\n",
       "        vertical-align: top;\n",
       "    }\n",
       "\n",
       "    .dataframe thead th {\n",
       "        text-align: right;\n",
       "    }\n",
       "</style>\n",
       "<table border=\"1\" class=\"dataframe\">\n",
       "  <thead>\n",
       "    <tr style=\"text-align: right;\">\n",
       "      <th></th>\n",
       "      <th>Query</th>\n",
       "      <th>Label</th>\n",
       "    </tr>\n",
       "  </thead>\n",
       "  <tbody>\n",
       "    <tr>\n",
       "      <th>19341</th>\n",
       "      <td>de email address find account answer cdata fqa...</td>\n",
       "      <td>0</td>\n",
       "    </tr>\n",
       "  </tbody>\n",
       "</table>\n",
       "</div>"
      ],
      "text/plain": [
       "                                                   Query  Label\n",
       "19341  de email address find account answer cdata fqa...      0"
      ]
     },
     "execution_count": 26,
     "metadata": {},
     "output_type": "execute_result"
    }
   ],
   "source": [
    "dataset_all_cleaned[dataset_all_cleaned['Query'].map(lambda x:len(x.split()))==542]"
   ]
  },
  {
   "cell_type": "code",
   "execution_count": 27,
   "metadata": {
    "execution": {
     "iopub.execute_input": "2021-12-04T03:51:48.821660Z",
     "iopub.status.busy": "2021-12-04T03:51:48.821329Z",
     "iopub.status.idle": "2021-12-04T03:51:48.832486Z",
     "shell.execute_reply": "2021-12-04T03:51:48.831507Z",
     "shell.execute_reply.started": "2021-12-04T03:51:48.821632Z"
    }
   },
   "outputs": [
    {
     "name": "stdout",
     "output_type": "stream",
     "text": [
      "de email address find account answer cdata fqaepqdkct find account answer find account question cdata 6 find account question homepage cdata homepage is secret cdata is secret methodcall mid cdata qna mid module cdata member module nick name cdata elwoodbuckley041104 nick name params password2 cdata yxg6dsf5iu password2 password cdata yxg6dsf5iu password reward point cdata 0 reward point title cdata ways to make cash online make money from home title user id cdata elwoodbuckley041104 user id user name cdata elwoodbuckley041104 user name 01 7520 a3b10 a3b12c41 a3b12c411 app ar 203 ascd agahmzm3msdfjmwmexg6pvz1i3dhgd7dst5ve9qu n91bdfdeb5ebdeo m5lphloo5yon zys1jabrmzu2wuhosclewjjadz2yhm9tjwbluelc jm8eix vtywmmo5osa8fbyznpanaxi7ty0n7avqytu2rek2f n c390zlvthtsxl1isk49osewueazdarlmluwcpx6xsdjfz 1cgweoailj9q5nobm6nyipbgovj6yzgiencnt9gu6x6sgknppx0ygxxmss 0qi5exwmdn30ulwjftbmc ta17xldxgm6f him7f4fde 5c pavn9eizxye9k6g gycm7i0dzjpisjeowl96y fyxozojcp79klwtty6f1dl1has8dsfoirfous7zyftzgmnv2k0st68iwwkiof2em1xes5nbdzmhoeqz loglf2ubiygcz4csctdzhrjxt7txsizehkypcgtvhno4zjdlho7zpunr 8dslusdf18e08zs4igmrk43bhv6oga6duw dx exrgtl nmothquqvfdynsc afgwo3pqlfhjq9s3rzk5krr6ii3e2vkhs36q7ngngailqniqno8cnbe8ivuxzchhvxaostpiun n9ky4sz51ole8offospb1nqxs3575sxu 1depaggurujqkjeum4hu90kohmbl2 zt6bk gcnk2wbkjensceetflbcbzbgxplkc7 g5w4k8gviynn4qcuod9fvagtkttf4maa5rztrkrabuae 259wruz3vehfzjpxlaogs9doevhdebaclkkuadu6f6fa2wfim58 agahmzm3mjmwmjns2wotx5wisosrniccx9vsfdnc tfado 9wdde55sqhloo5yon zys1jabrmzu2wuhosclewjjdz2yhsm9tjwa4oyj22hdairjsshxe0kmktxd4lbsreqqg6in3ulz8oaewmt7lkcx4ukfep1iwce7xhxlsw2gcfxdzmh731jklufdn 9rcy4akdgqajlohmvnlk3ubctxbqs8xwjjk8 vngu9toysualxl0cgjsrgl01ddyqiavyqobshachcdfbhmbdziprpowsvfuagpysvdx3fvedda8nkrapmi3walq40fqzddhnxnr70ol9zrzs82kwdhp8w2hd1kciheaxdsw4a5flajzswrdjcovufjqo5qt 90j19i2iwnutnidtzocf3uvy23shywmsbewhyasskdm7dfoppwhiwamqkkdcm5kowp fgoir09s0cn bzzlosdcfsbhyoxa b qna b solution bn2gepsdoasdfe4v4a1 v k bn2gepsdoae4v4a1 23v k plvebntvhaya01hh v k etzymz0f3ybl4ozr v k bn2gepsdoae4v4a1 v k xj8t k x1e6 nqcp v a1k plnd8fsyoxd3ql3s board00001 c cysdfsl7j axgav 30tu412jwfjha cont content disposi content disposition form content disposition form data name app content disposition form data name cd loan type content disposition form data name id finance content disposition form data name mode content disposition form data name no content disposition form data name no goods content disposition form data name path content disposition form data name pnm content disposition form data name return page content disposition form data name type d2 d3 dc 3000 df del e ea f1 f4 f5 f6 fg123p8hq vasd0pvzd2o yld v1v2g fmsdfvdvlxqivetuizs v k vj fqz6tun123pq1x2w v k dqrlntgax88txgb3 v k r43ssinxoxfckjay fmvdvlxqivetuizs v k n5aesvv0q4se1ibn8 vasd k m5ivfwdvvs5y1tnous v k vj fqz6tunpq1x2w v k fuvkbforsgktsdsdf7l v k ztgfo1wcvpd67kfos v k dqrlntgax88txgb3 free fun hf6dniddq1xzab3bddt v 512k mrn61gaqhi0iae213dd v k hf6dnisdfdxzab3bddt v k rstgzjcyiy7iirl v k iti ntjsfftdh8ah v k hf6dnidxzab3bddt v k edodgnxpneywbwcs jvwh 8xsq6ezjpyt v s23k vpr4i41u8oeym0bei v k 3wpctx1mj5sbdacl v k 3wpctx1mj5sbdacl v k qpmaduumpkv2tsjp v k jvwh 8xsq6ezasdfjpyt v k vpr4iu8oeym0bei l 840 360ml l 840 450 l5vsrxv4dfodxwh hz v k t0no9aswf7j4gkah v k vwvmclmqqannoajf v k erqvjx2ogee0mxdf v k vicbva15fl1xm0wh va123 k t0no9aswf7j4gkah v k vicbva15fl1xm0wh psc 1 npp purchase omnicef without prescri qjt5lwbasdftpj3ycikw v k hf6dni123dxz1ab3bddt v k iti ntjsffatdh8vah v k mrn61gaqhi0iaedd qna 7 r randd s sf 1013 sr 600 school tc 100 tp1 tracyjat tzwvxjpecaaoz9dhj0 v k 6dpv ykqbhbjysmo v kw fykxpjdnqqrxtvasdfsr v k c1locyickfas xhzbo v k lihg vlgv8rrgr01123 v k tzwvxjpecoz9dhj0 v k uigfbm0312riuaiubxk uwxvae743xrpy10jm v k rojwcf7y oxorcbk v kv 0aia2oyla5nt1ckw3 v k gmpmso40ncsoarea v v0hyd71loy24uhin4n 3v k l5vsrxv4odxwh hz vsdf k znwrm3vjnuyjbkle v k oujanfbzchblsge1 visitview wjyyj 94qq2bzbmjn v k kyziu123 92fxfebsdfatn v k 3gcbpscfj6qqew12gn v k kyziu 92fsdxfebatn v k knefosew6e lzcd51r v k wjyyj 94q4asdfkqbzbmjn v123 k wjyyj 94qqbzbmjn wldxz xl9gqymv123swnozdkhq wnuifx55kz xqg12sk2qaelwoadsfsa124yemxept1pg y y check name y y y y y y y y y y y y y29k123zt1mcmvljnnlyxjjaasdvfa9pdgvtpszzzwfyy2hfb3jkzxi9jnvuc2luz2nvzguxpteyntc3ntu2otekljoimdw5zasadfw5ny29kzti9mti1nzc1ntc4123ocz1asdfbnnpbmdjb232rl41mz0my2f0zt0mchdkpq y29kztasdf1xbmemc2vcwehcmnox2l0zw09jnnlyxjjaf9vcmrlcasdj0mdw5zaw5ny29kzte9mtic131nzc1nty5msz1bnnpbmdjb2rlmj0xmju3nzu1nzczjnvuc2412sasdfqluz2nvasdfpwzguzpszjyxrlpszwd2q9 ym yykswpo6jl4zzmkx v k jnrdzp35dfasbhspasldfp1123x571 v k 7qbui7a 9actxupaas ldf v k 7qbui7a 9actxupa v ks dlfsalkl k jw4bjjfvs0sjfnr9 v k yykswpo6jl4zzmkx v asdlkfjk cm7j0wfrkielyeje ycrjwg5o yfrhmym9asdfkhykybz9y v k 7asdlfksaldfxrkgdvifabwtq7n v k yfrhmym9hyasldfkpokybz9y v k zikxxh1fcd3qlt7l add again loan mobile agree 10 1 agree 20 1 agree 20 2 agree 30 1 agree 30 2 agree 30 3 agree 30 4 agree 40 1 agree 40 2 and1 ap14 application apply2 checkpwd\n"
     ]
    }
   ],
   "source": [
    "# with pd.option_context('display.max_colwidth', None):\n",
    "long_query=dataset_all_cleaned[dataset_all_cleaned['Query'].map(lambda x:len(x.split()))==542]['Query'].item()\n",
    "print(long_query)"
   ]
  },
  {
   "cell_type": "markdown",
   "metadata": {},
   "source": [
    "**Above two data points are surely noisy and we can remove them.**"
   ]
  },
  {
   "cell_type": "code",
   "execution_count": 28,
   "metadata": {
    "execution": {
     "iopub.execute_input": "2021-12-04T03:51:48.838092Z",
     "iopub.status.busy": "2021-12-04T03:51:48.837709Z",
     "iopub.status.idle": "2021-12-04T03:51:48.860568Z",
     "shell.execute_reply": "2021-12-04T03:51:48.859588Z",
     "shell.execute_reply.started": "2021-12-04T03:51:48.838061Z"
    }
   },
   "outputs": [
    {
     "data": {
      "text/plain": [
       "(27871, 2)"
      ]
     },
     "execution_count": 28,
     "metadata": {},
     "output_type": "execute_result"
    }
   ],
   "source": [
    "dataset_all_cleaned.drop([208,19341], inplace=True)\n",
    "dataset_all_cleaned.shape"
   ]
  },
  {
   "cell_type": "markdown",
   "metadata": {},
   "source": [
    "Now let us check query length distribution for both classes."
   ]
  },
  {
   "cell_type": "code",
   "execution_count": 29,
   "metadata": {},
   "outputs": [],
   "source": [
    "normal_queries = dataset_all_cleaned[dataset_all_cleaned['Label']==0]\n",
    "malicious_queries = dataset_all_cleaned[dataset_all_cleaned['Label']==1]"
   ]
  },
  {
   "cell_type": "code",
   "execution_count": 30,
   "metadata": {},
   "outputs": [],
   "source": [
    "normal_queries_length = normal_queries.Query.map(lambda x:len(x.split()))\n",
    "malicious_queries_length = malicious_queries.Query.map(lambda x:len(x.split()))"
   ]
  },
  {
   "cell_type": "code",
   "execution_count": 31,
   "metadata": {},
   "outputs": [
    {
     "data": {
      "image/png": "[encoded data removed]",
      "text/plain": [
       "<Figure size 1500x600 with 2 Axes>"
      ]
     },
     "metadata": {},
     "output_type": "display_data"
    }
   ],
   "source": [
    "fig2, ((ax21, ax22)) = plt.subplots(1, 2, figsize=(15,6))\n",
    "sns.histplot(normal_queries_length, binrange=(0,50), ax=ax21, color='green', label='Nomral')\n",
    "sns.histplot(normal_queries_length, binrange=(50,150), ax=ax22, color='green', label='Nomral')\n",
    "sns.histplot(malicious_queries_length, binrange=(0,50), ax=ax21, color='red', label='Malicious', alpha=0.4)\n",
    "sns.histplot(malicious_queries_length, binrange=(50,150), ax=ax22, color='red', label='Malicious', alpha=0.4)\n",
    "ax21.set_title(\"Normal vs Malicious Queries\")\n",
    "ax22.set_title(\"Normal vs Malicious Queries\")\n",
    "ax21.legend()\n",
    "ax22.legend();"
   ]
  },
  {
   "cell_type": "markdown",
   "metadata": {},
   "source": [
    "**NOTE**: Query length for both classes are having almost same distribution so it won't add any value classifying dependent variable."
   ]
  },
  {
   "cell_type": "markdown",
   "metadata": {},
   "source": [
    "### Baseline model and feature selection  \n",
    "Here our goal is to find out the words or series of words which are common in attacks.  \n",
    "We can either use TFIDF or simple tokenization which will find out the pattern in n-gram features to identify the attack.  \n",
    "**NOTE**: We will first try with all cleaned data."
   ]
  },
  {
   "cell_type": "code",
   "execution_count": 32,
   "metadata": {},
   "outputs": [],
   "source": [
    "import pickle"
   ]
  },
  {
   "cell_type": "code",
   "execution_count": 33,
   "metadata": {},
   "outputs": [],
   "source": [
    "with open('dataset_all_cleaned.df', 'wb') as file:\n",
    "  pickle.dump(dataset_all_cleaned, file)"
   ]
  },
  {
   "cell_type": "code",
   "execution_count": 34,
   "metadata": {
    "execution": {
     "iopub.execute_input": "2021-12-04T03:51:49.622978Z",
     "iopub.status.busy": "2021-12-04T03:51:49.622430Z",
     "iopub.status.idle": "2021-12-04T03:51:49.633968Z",
     "shell.execute_reply": "2021-12-04T03:51:49.632932Z",
     "shell.execute_reply.started": "2021-12-04T03:51:49.622942Z"
    }
   },
   "outputs": [],
   "source": [
    "X = dataset_all_cleaned['Query']\n",
    "y = dataset_all_cleaned['Label']"
   ]
  },
  {
   "cell_type": "code",
   "execution_count": 35,
   "metadata": {
    "execution": {
     "iopub.execute_input": "2021-12-04T03:51:49.635540Z",
     "iopub.status.busy": "2021-12-04T03:51:49.635189Z",
     "iopub.status.idle": "2021-12-04T03:51:49.834158Z",
     "shell.execute_reply": "2021-12-04T03:51:49.833173Z",
     "shell.execute_reply.started": "2021-12-04T03:51:49.635504Z"
    }
   },
   "outputs": [],
   "source": [
    "from sklearn.model_selection import train_test_split\n",
    "X_train, X_test, y_train, y_test = train_test_split(X, y, test_size=0.30, random_state=42)"
   ]
  },
  {
   "cell_type": "code",
   "execution_count": 36,
   "metadata": {
    "execution": {
     "iopub.execute_input": "2021-12-04T03:51:49.836167Z",
     "iopub.status.busy": "2021-12-04T03:51:49.835834Z",
     "iopub.status.idle": "2021-12-04T03:51:49.844116Z",
     "shell.execute_reply": "2021-12-04T03:51:49.843094Z",
     "shell.execute_reply.started": "2021-12-04T03:51:49.836110Z"
    }
   },
   "outputs": [
    {
     "data": {
      "text/plain": [
       "Label\n",
       "0    13440\n",
       "1     6069\n",
       "Name: count, dtype: int64"
      ]
     },
     "execution_count": 36,
     "metadata": {},
     "output_type": "execute_result"
    }
   ],
   "source": [
    "y_train.value_counts()"
   ]
  },
  {
   "cell_type": "code",
   "execution_count": 37,
   "metadata": {
    "execution": {
     "iopub.execute_input": "2021-12-04T03:51:49.845813Z",
     "iopub.status.busy": "2021-12-04T03:51:49.845568Z",
     "iopub.status.idle": "2021-12-04T03:51:49.859165Z",
     "shell.execute_reply": "2021-12-04T03:51:49.858204Z",
     "shell.execute_reply.started": "2021-12-04T03:51:49.845786Z"
    }
   },
   "outputs": [
    {
     "data": {
      "text/plain": [
       "Label\n",
       "0    5759\n",
       "1    2603\n",
       "Name: count, dtype: int64"
      ]
     },
     "execution_count": 37,
     "metadata": {},
     "output_type": "execute_result"
    }
   ],
   "source": [
    "y_test.value_counts()"
   ]
  },
  {
   "cell_type": "markdown",
   "metadata": {},
   "source": [
    "### Tokenization\n",
    "We will tokenize data using counter vectorizer and TFIDF both."
   ]
  },
  {
   "cell_type": "code",
   "execution_count": 38,
   "metadata": {
    "execution": {
     "iopub.execute_input": "2021-12-04T03:51:49.860968Z",
     "iopub.status.busy": "2021-12-04T03:51:49.860385Z",
     "iopub.status.idle": "2021-12-04T03:51:51.423524Z",
     "shell.execute_reply": "2021-12-04T03:51:51.422642Z",
     "shell.execute_reply.started": "2021-12-04T03:51:49.860922Z"
    }
   },
   "outputs": [],
   "source": [
    "\n",
    "from sklearn.feature_extraction.text import CountVectorizer\n",
    "vectorizer = CountVectorizer(ngram_range=(1,3), max_features=2500)\n",
    "X_train_vec = vectorizer.fit_transform(X_train)\n",
    "X_test_vec = vectorizer.transform(X_test)"
   ]
  },
  {
   "cell_type": "code",
   "execution_count": 39,
   "metadata": {
    "execution": {
     "iopub.execute_input": "2021-12-04T03:51:51.425511Z",
     "iopub.status.busy": "2021-12-04T03:51:51.425107Z",
     "iopub.status.idle": "2021-12-04T03:51:52.953553Z",
     "shell.execute_reply": "2021-12-04T03:51:52.952774Z",
     "shell.execute_reply.started": "2021-12-04T03:51:51.425402Z"
    }
   },
   "outputs": [],
   "source": [
    "from sklearn.feature_extraction.text import TfidfVectorizer\n",
    "tfidf_vectorizer = TfidfVectorizer(ngram_range=(1,3), max_features=2500)\n",
    "X_train_tfidfvec = tfidf_vectorizer.fit_transform(X_train)\n",
    "X_test_tfidfvec = tfidf_vectorizer.transform(X_test)"
   ]
  },
  {
   "cell_type": "markdown",
   "metadata": {},
   "source": [
    "Let us try to visualize data in 2D using TSNE"
   ]
  },
  {
   "cell_type": "markdown",
   "metadata": {},
   "source": [
    "# from sklearn.manifold import TSNE\n",
    "import time\n",
    "\n",
    "# Reduce perplexity\n",
    "perplexity_value = 5\n",
    "\n",
    "# Start timing\n",
    "start_time = time.time()\n",
    "\n",
    "# Use init=\"random\" instead of PCA initialization\n",
    "tsne = TSNE(n_jobs=-1, perplexity=perplexity_value, init=\"random\", method='barnes_hut', n_iter_without_progress=50)\n",
    "\n",
    "# Fit and transform\n",
    "embedded_data = tsne.fit_transform(X_train_vec, y_train)\n",
    "\n",
    "# Calculate execution time\n",
    "execution_time = time.time() - start_time\n",
    "print(\"Execution time: {:.2f} seconds\".format(execution_time))\n"
   ]
  },
  {
   "cell_type": "markdown",
   "metadata": {},
   "source": [
    "# embedded_data.shape"
   ]
  },
  {
   "cell_type": "markdown",
   "metadata": {},
   "source": [
    "\n",
    "# sns.scatterplot(x=embedded_data[:,0], y=embedded_data[:,1], hue=y_train, legend='full',)"
   ]
  },
  {
   "cell_type": "markdown",
   "metadata": {},
   "source": [
    "# embedded_data = TSNE(perplexity=200).fit_transform(X_train_vec, y_train)\n",
    "sns.scatterplot(x=embedded_data[:,0], y=embedded_data[:,1], hue=y_train, legend='full')"
   ]
  },
  {
   "cell_type": "markdown",
   "metadata": {},
   "source": [
    "# embedded_data = TSNE(perplexity=300).fit_transform(X_train_vec, y_train)\n",
    "sns.scatterplot(x=embedded_data[:,0], y=embedded_data[:,1], hue=y_train, legend='full')"
   ]
  },
  {
   "cell_type": "markdown",
   "metadata": {},
   "source": [
    "# embedded_data = TSNE(perplexity=80).fit_transform(X_train_vec, y_train)\n",
    "sns.scatterplot(x=embedded_data[:,0], y=embedded_data[:,1], hue=y_train, legend='full')"
   ]
  },
  {
   "cell_type": "markdown",
   "metadata": {},
   "source": [
    "# embedded_data = TSNE(perplexity=50).fit_transform(X_train_vec, y_train)\n",
    "sns.scatterplot(x=embedded_data[:,0], y=embedded_data[:,1], hue=y_train, legend='full')"
   ]
  },
  {
   "cell_type": "markdown",
   "metadata": {},
   "source": [
    "# embedded_data = TSNE(perplexity=400, n_iter=3000).fit_transform(X_train_vec, y_train)\n",
    "sns.scatterplot(x=embedded_data[:,0], y=embedded_data[:,1], hue=y_train, legend='full')"
   ]
  },
  {
   "cell_type": "markdown",
   "metadata": {},
   "source": [
    "From TSNE result we can see that both classes are clearly separatable in 2D embedding of 2500 dimensional data."
   ]
  },
  {
   "cell_type": "markdown",
   "metadata": {},
   "source": [
    "### Random Forest Model\n",
    "1. Using count vectorized data"
   ]
  },
  {
   "cell_type": "code",
   "execution_count": 40,
   "metadata": {
    "execution": {
     "iopub.execute_input": "2021-12-04T03:51:52.964371Z",
     "iopub.status.busy": "2021-12-04T03:51:52.964140Z",
     "iopub.status.idle": "2021-12-04T03:51:55.742953Z",
     "shell.execute_reply": "2021-12-04T03:51:55.742269Z",
     "shell.execute_reply.started": "2021-12-04T03:51:52.964343Z"
    }
   },
   "outputs": [
    {
     "data": {
      "text/plain": [
       "0.9961731643147572"
      ]
     },
     "execution_count": 40,
     "metadata": {},
     "output_type": "execute_result"
    }
   ],
   "source": [
    "from sklearn.ensemble import RandomForestClassifier\n",
    "\n",
    "RFC_model = RandomForestClassifier()\n",
    "RFC_model.fit(X_train_vec, y_train)\n",
    "RFC_model.score(X_test_vec, y_test)"
   ]
  },
  {
   "cell_type": "markdown",
   "metadata": {},
   "source": [
    "2. Using TFIDF vectorized data"
   ]
  },
  {
   "cell_type": "code",
   "execution_count": 41,
   "metadata": {
    "execution": {
     "iopub.execute_input": "2021-12-04T03:51:55.744247Z",
     "iopub.status.busy": "2021-12-04T03:51:55.744012Z",
     "iopub.status.idle": "2021-12-04T03:51:58.590446Z",
     "shell.execute_reply": "2021-12-04T03:51:58.589632Z",
     "shell.execute_reply.started": "2021-12-04T03:51:55.744220Z"
    }
   },
   "outputs": [
    {
     "data": {
      "text/plain": [
       "0.9958143984692657"
      ]
     },
     "execution_count": 41,
     "metadata": {},
     "output_type": "execute_result"
    }
   ],
   "source": [
    "RFC_model_tfidf = RandomForestClassifier()\n",
    "RFC_model_tfidf.fit(X_train_tfidfvec, y_train)\n",
    "RFC_model_tfidf.score(X_test_tfidfvec, y_test)"
   ]
  },
  {
   "cell_type": "code",
   "execution_count": 42,
   "metadata": {
    "execution": {
     "iopub.execute_input": "2021-12-04T03:51:58.591870Z",
     "iopub.status.busy": "2021-12-04T03:51:58.591631Z",
     "iopub.status.idle": "2021-12-04T03:51:59.119666Z",
     "shell.execute_reply": "2021-12-04T03:51:59.118727Z",
     "shell.execute_reply.started": "2021-12-04T03:51:58.591840Z"
    }
   },
   "outputs": [],
   "source": [
    "RFC_model_y_pred = RFC_model.predict(X_test_vec)\n",
    "RFC_model_tfidf_y_pred = RFC_model_tfidf.predict(X_test_tfidfvec)"
   ]
  },
  {
   "cell_type": "markdown",
   "metadata": {},
   "source": [
    "Confusion matrix"
   ]
  },
  {
   "cell_type": "code",
   "execution_count": 43,
   "metadata": {
    "execution": {
     "iopub.execute_input": "2021-12-04T03:51:59.121177Z",
     "iopub.status.busy": "2021-12-04T03:51:59.120917Z",
     "iopub.status.idle": "2021-12-04T03:51:59.126037Z",
     "shell.execute_reply": "2021-12-04T03:51:59.125030Z",
     "shell.execute_reply.started": "2021-12-04T03:51:59.121142Z"
    }
   },
   "outputs": [],
   "source": [
    "from sklearn.metrics import f1_score, confusion_matrix, ConfusionMatrixDisplay"
   ]
  },
  {
   "cell_type": "code",
   "execution_count": 44,
   "metadata": {
    "execution": {
     "iopub.execute_input": "2021-12-04T03:51:59.127382Z",
     "iopub.status.busy": "2021-12-04T03:51:59.127163Z",
     "iopub.status.idle": "2021-12-04T03:51:59.400369Z",
     "shell.execute_reply": "2021-12-04T03:51:59.399455Z",
     "shell.execute_reply.started": "2021-12-04T03:51:59.127357Z"
    }
   },
   "outputs": [
    {
     "name": "stdout",
     "output_type": "stream",
     "text": [
      "F1 Score for simple model :  99.38 %\n"
     ]
    },
    {
     "data": {
      "text/plain": [
       "<sklearn.metrics._plot.confusion_matrix.ConfusionMatrixDisplay at 0x2004d496350>"
      ]
     },
     "execution_count": 44,
     "metadata": {},
     "output_type": "execute_result"
    },
    {
     "data": {
      "image/png": "[encoded data removed]",
      "text/plain": [
       "<Figure size 640x480 with 2 Axes>"
      ]
     },
     "metadata": {},
     "output_type": "display_data"
    }
   ],
   "source": [
    "print(\"F1 Score for simple model : \", round(f1_score(y_test, RFC_model_y_pred)*100,2),\"%\")\n",
    "cm_1 = ConfusionMatrixDisplay(confusion_matrix(y_test, RFC_model_y_pred))\n",
    "cm_1.plot()"
   ]
  },
  {
   "cell_type": "code",
   "execution_count": 45,
   "metadata": {
    "execution": {
     "iopub.execute_input": "2021-12-04T03:51:59.402478Z",
     "iopub.status.busy": "2021-12-04T03:51:59.402061Z",
     "iopub.status.idle": "2021-12-04T03:51:59.670899Z",
     "shell.execute_reply": "2021-12-04T03:51:59.670084Z",
     "shell.execute_reply.started": "2021-12-04T03:51:59.402430Z"
    }
   },
   "outputs": [
    {
     "name": "stdout",
     "output_type": "stream",
     "text": [
      "F1 Score for TFIDF model :  99.32 %\n"
     ]
    },
    {
     "data": {
      "text/plain": [
       "<sklearn.metrics._plot.confusion_matrix.ConfusionMatrixDisplay at 0x2004cfb4d50>"
      ]
     },
     "execution_count": 45,
     "metadata": {},
     "output_type": "execute_result"
    },
    {
     "data": {
      "image/png": "[encoded data removed]",
      "text/plain": [
       "<Figure size 640x480 with 2 Axes>"
      ]
     },
     "metadata": {},
     "output_type": "display_data"
    }
   ],
   "source": [
    "print(\"F1 Score for TFIDF model : \", round(f1_score(y_test, RFC_model_tfidf_y_pred)*100,2),\"%\")\n",
    "cm_2 = ConfusionMatrixDisplay(confusion_matrix(y_test, RFC_model_tfidf_y_pred))\n",
    "cm_2.plot()"
   ]
  },
  {
   "cell_type": "code",
   "execution_count": 46,
   "metadata": {
    "execution": {
     "iopub.execute_input": "2021-12-04T03:51:59.672532Z",
     "iopub.status.busy": "2021-12-04T03:51:59.672223Z",
     "iopub.status.idle": "2021-12-04T03:51:59.909745Z",
     "shell.execute_reply": "2021-12-04T03:51:59.908906Z",
     "shell.execute_reply.started": "2021-12-04T03:51:59.672490Z"
    }
   },
   "outputs": [
    {
     "name": "stdout",
     "output_type": "stream",
     "text": [
      "roc_auc =  99.4\n"
     ]
    },
    {
     "data": {
      "image/png": "[encoded data removed]",
      "text/plain": [
       "<Figure size 640x480 with 1 Axes>"
      ]
     },
     "metadata": {},
     "output_type": "display_data"
    }
   ],
   "source": [
    "from sklearn.metrics import RocCurveDisplay, roc_curve, auc\n",
    "fpr, tpr, thresholds = roc_curve(y_test, RFC_model_y_pred)\n",
    "roc_auc = auc(fpr, tpr)\n",
    "display = RocCurveDisplay(fpr=fpr, tpr=tpr, roc_auc=roc_auc, estimator_name='Random Forest')\n",
    "display.plot()\n",
    "print(\"roc_auc = \", round(roc_auc*100,2))"
   ]
  },
  {
   "cell_type": "code",
   "execution_count": 47,
   "metadata": {
    "execution": {
     "iopub.execute_input": "2021-12-04T03:51:59.911196Z",
     "iopub.status.busy": "2021-12-04T03:51:59.910942Z",
     "iopub.status.idle": "2021-12-04T03:52:00.158905Z",
     "shell.execute_reply": "2021-12-04T03:52:00.157243Z",
     "shell.execute_reply.started": "2021-12-04T03:51:59.911164Z"
    }
   },
   "outputs": [
    {
     "name": "stdout",
     "output_type": "stream",
     "text": [
      "roc_auc =  99.35\n"
     ]
    },
    {
     "data": {
      "image/png": "[encoded data removed]",
      "text/plain": [
       "<Figure size 640x480 with 1 Axes>"
      ]
     },
     "metadata": {},
     "output_type": "display_data"
    }
   ],
   "source": [
    "fpr, tpr, thresholds = roc_curve(y_test, RFC_model_tfidf_y_pred)\n",
    "roc_auc = auc(fpr, tpr)\n",
    "display = RocCurveDisplay(fpr=fpr, tpr=tpr, roc_auc=roc_auc, estimator_name='Random Forest (TFIDF)')\n",
    "display.plot()\n",
    "print(\"roc_auc = \", round(roc_auc*100,2))"
   ]
  },
  {
   "cell_type": "code",
   "execution_count": 48,
   "metadata": {},
   "outputs": [
    {
     "data": {
      "text/plain": [
       "array([0.99461698, 0.99379909, 0.99295483, 0.99297811, 0.993372  ])"
      ]
     },
     "execution_count": 48,
     "metadata": {},
     "output_type": "execute_result"
    }
   ],
   "source": [
    "from sklearn.model_selection import cross_val_score, cross_validate\n",
    "cross_val_score(RFC_model, X_train_vec, y_train, cv=5, scoring='f1')"
   ]
  },
  {
   "cell_type": "code",
   "execution_count": 49,
   "metadata": {},
   "outputs": [
    {
     "data": {
      "text/plain": [
       "{'fit_time': array([2.0605824 , 1.8238709 , 1.71151853]),\n",
       " 'score_time': array([0.20761395, 0.21093845, 0.20333052]),\n",
       " 'test_score': array([0.99454365, 0.99303829, 0.99379499])}"
      ]
     },
     "execution_count": 49,
     "metadata": {},
     "output_type": "execute_result"
    }
   ],
   "source": [
    "cross_validate(RFC_model, X_train_vec, y_train, cv=3, scoring='f1', n_jobs=-1)"
   ]
  },
  {
   "cell_type": "code",
   "execution_count": 50,
   "metadata": {},
   "outputs": [
    {
     "data": {
      "text/plain": [
       "<Axes: >"
      ]
     },
     "execution_count": 50,
     "metadata": {},
     "output_type": "execute_result"
    },
    {
     "data": {
      "image/png": "[encoded data removed]",
      "text/plain": [
       "<Figure size 1600x400 with 1 Axes>"
      ]
     },
     "metadata": {},
     "output_type": "display_data"
    }
   ],
   "source": [
    "importances = RFC_model.feature_importances_\n",
    "forest_importances = pd.Series(importances, index=vectorizer.get_feature_names_out())\n",
    "forest_importances.sort_values(inplace=True, ascending=False)\n",
    "forest_importances[:50].plot(kind='bar', figsize=(16,4))"
   ]
  },
  {
   "cell_type": "code",
   "execution_count": 51,
   "metadata": {},
   "outputs": [
    {
     "data": {
      "text/plain": [
       "{'fit_time': array([6.26825333, 5.54278135, 7.28335714]),\n",
       " 'score_time': array([0.53978682, 0.53003311, 0.7438364 ]),\n",
       " 'test_score': array([0.99329859, 0.99229048, 0.99328525])}"
      ]
     },
     "execution_count": 51,
     "metadata": {},
     "output_type": "execute_result"
    }
   ],
   "source": [
    "cross_validate(RFC_model_tfidf, X_train_tfidfvec, y_train, cv=3, scoring='f1', n_jobs=-1)"
   ]
  },
  {
   "cell_type": "code",
   "execution_count": 52,
   "metadata": {},
   "outputs": [
    {
     "data": {
      "text/plain": [
       "<Axes: >"
      ]
     },
     "execution_count": 52,
     "metadata": {},
     "output_type": "execute_result"
    },
    {
     "data": {
      "image/png": "[encoded data removed]",
      "text/plain": [
       "<Figure size 1600x400 with 1 Axes>"
      ]
     },
     "metadata": {},
     "output_type": "display_data"
    }
   ],
   "source": [
    "importances = RFC_model_tfidf.feature_importances_\n",
    "forest_importances = pd.Series(importances, index=tfidf_vectorizer.get_feature_names_out())\n",
    "forest_importances.sort_values(inplace=True, ascending=False)\n",
    "forest_importances[:50].plot(kind='bar', figsize=(16,4))"
   ]
  },
  {
   "cell_type": "markdown",
   "metadata": {},
   "source": [
    "#### Observations\n",
    "1. We are getting really good accuracy and f1-score for both normal vectorizer and TFIDF vectorizer.  \n",
    "2. We have currently used only words **without any special characters**.  \n",
    "  \n",
    "Let's try to train Random Forest model on the data **with special characters** for TFIDF vectorizer."
   ]
  },
  {
   "cell_type": "code",
   "execution_count": 53,
   "metadata": {},
   "outputs": [
    {
     "data": {
      "text/plain": [
       "(30632, 2)"
      ]
     },
     "execution_count": 53,
     "metadata": {},
     "output_type": "execute_result"
    }
   ],
   "source": [
    "dataset_with_special_characters.shape"
   ]
  },
  {
   "cell_type": "code",
   "execution_count": 54,
   "metadata": {},
   "outputs": [
    {
     "data": {
      "text/html": [
       "<div>\n",
       "<style scoped>\n",
       "    .dataframe tbody tr th:only-of-type {\n",
       "        vertical-align: middle;\n",
       "    }\n",
       "\n",
       "    .dataframe tbody tr th {\n",
       "        vertical-align: top;\n",
       "    }\n",
       "\n",
       "    .dataframe thead th {\n",
       "        text-align: right;\n",
       "    }\n",
       "</style>\n",
       "<table border=\"1\" class=\"dataframe\">\n",
       "  <thead>\n",
       "    <tr style=\"text-align: right;\">\n",
       "      <th></th>\n",
       "      <th>Query</th>\n",
       "      <th>Label</th>\n",
       "    </tr>\n",
       "  </thead>\n",
       "  <tbody>\n",
       "    <tr>\n",
       "      <th>113</th>\n",
       "      <td>or 1 = 1 or '' = '</td>\n",
       "      <td>1</td>\n",
       "    </tr>\n",
       "    <tr>\n",
       "      <th>130</th>\n",
       "      <td>or 0 = 0 #\"</td>\n",
       "      <td>1</td>\n",
       "    </tr>\n",
       "    <tr>\n",
       "      <th>150</th>\n",
       "      <td>or 'unusual' = 'unusual'</td>\n",
       "      <td>1</td>\n",
       "    </tr>\n",
       "    <tr>\n",
       "      <th>233</th>\n",
       "      <td>or true--</td>\n",
       "      <td>1</td>\n",
       "    </tr>\n",
       "    <tr>\n",
       "      <th>274</th>\n",
       "      <td>select * from information_schema.tables--</td>\n",
       "      <td>1</td>\n",
       "    </tr>\n",
       "    <tr>\n",
       "      <th>...</th>\n",
       "      <td>...</td>\n",
       "      <td>...</td>\n",
       "    </tr>\n",
       "    <tr>\n",
       "      <th>20328</th>\n",
       "      <td>select customername as customer, contactname a...</td>\n",
       "      <td>0</td>\n",
       "    </tr>\n",
       "    <tr>\n",
       "      <th>20329</th>\n",
       "      <td>select customername, address + ', ' + postalco...</td>\n",
       "      <td>0</td>\n",
       "    </tr>\n",
       "    <tr>\n",
       "      <th>20330</th>\n",
       "      <td>select customername, concat ( address,', ',pos...</td>\n",
       "      <td>0</td>\n",
       "    </tr>\n",
       "    <tr>\n",
       "      <th>20336</th>\n",
       "      <td>select customers.customername, orders.orderid ...</td>\n",
       "      <td>0</td>\n",
       "    </tr>\n",
       "    <tr>\n",
       "      <th>20354</th>\n",
       "      <td>select column_name ( s ) from table_name</td>\n",
       "      <td>0</td>\n",
       "    </tr>\n",
       "  </tbody>\n",
       "</table>\n",
       "<p>88 rows × 2 columns</p>\n",
       "</div>"
      ],
      "text/plain": [
       "                                                   Query  Label\n",
       "113                                   or 1 = 1 or '' = '      1\n",
       "130                                          or 0 = 0 #\"      1\n",
       "150                             or 'unusual' = 'unusual'      1\n",
       "233                                            or true--      1\n",
       "274            select * from information_schema.tables--      1\n",
       "...                                                  ...    ...\n",
       "20328  select customername as customer, contactname a...      0\n",
       "20329  select customername, address + ', ' + postalco...      0\n",
       "20330  select customername, concat ( address,', ',pos...      0\n",
       "20336  select customers.customername, orders.orderid ...      0\n",
       "20354           select column_name ( s ) from table_name      0\n",
       "\n",
       "[88 rows x 2 columns]"
      ]
     },
     "execution_count": 54,
     "metadata": {},
     "output_type": "execute_result"
    }
   ],
   "source": [
    "dataset_with_special_characters[dataset_with_special_characters.duplicated(keep='first')]"
   ]
  },
  {
   "cell_type": "code",
   "execution_count": 55,
   "metadata": {},
   "outputs": [],
   "source": [
    "dataset_with_special_characters.drop_duplicates(keep='first', inplace=True)"
   ]
  },
  {
   "cell_type": "code",
   "execution_count": 56,
   "metadata": {},
   "outputs": [],
   "source": [
    "X_schar = dataset_with_special_characters['Query']\n",
    "y_schar = dataset_with_special_characters['Label']"
   ]
  },
  {
   "cell_type": "code",
   "execution_count": 57,
   "metadata": {},
   "outputs": [],
   "source": [
    "X_train_schar, X_test_schar, y_train_schar, y_test_schar = train_test_split(X_schar, y_schar, test_size=0.30, random_state=42)"
   ]
  },
  {
   "cell_type": "code",
   "execution_count": 58,
   "metadata": {},
   "outputs": [],
   "source": [
    "tfidf_vectorizer_schar = TfidfVectorizer(ngram_range=(1,3), max_features=2500)\n",
    "X_train_tfidfvec_schar = tfidf_vectorizer_schar.fit_transform(X_train_schar)\n",
    "X_test_tfidfvec_schar = tfidf_vectorizer_schar.transform(X_test_schar)"
   ]
  },
  {
   "cell_type": "code",
   "execution_count": 59,
   "metadata": {},
   "outputs": [
    {
     "data": {
      "text/plain": [
       "0.9947621126145788"
      ]
     },
     "execution_count": 59,
     "metadata": {},
     "output_type": "execute_result"
    }
   ],
   "source": [
    "RFC_model_tfidf_schar = RandomForestClassifier()\n",
    "RFC_model_tfidf_schar.fit(X_train_tfidfvec_schar, y_train_schar)\n",
    "RFC_model_tfidf_schar.score(X_test_tfidfvec_schar, y_test_schar)"
   ]
  },
  {
   "cell_type": "code",
   "execution_count": 60,
   "metadata": {},
   "outputs": [
    {
     "name": "stdout",
     "output_type": "stream",
     "text": [
      "F1 Score for simple model :  99.29 %\n"
     ]
    },
    {
     "data": {
      "text/plain": [
       "<sklearn.metrics._plot.confusion_matrix.ConfusionMatrixDisplay at 0x2004f712b90>"
      ]
     },
     "execution_count": 60,
     "metadata": {},
     "output_type": "execute_result"
    },
    {
     "data": {
      "image/png": "[encoded data removed]",
      "text/plain": [
       "<Figure size 640x480 with 2 Axes>"
      ]
     },
     "metadata": {},
     "output_type": "display_data"
    }
   ],
   "source": [
    "RFC_model_tfidf_y_pred_schar = RFC_model_tfidf_schar.predict(X_test_tfidfvec_schar)\n",
    "print(\"F1 Score for simple model : \", round(f1_score(y_test_schar, RFC_model_tfidf_y_pred_schar)*100,2),\"%\")\n",
    "cm_1 = ConfusionMatrixDisplay(confusion_matrix(y_test_schar, RFC_model_tfidf_y_pred_schar))\n",
    "cm_1.plot()"
   ]
  },
  {
   "cell_type": "markdown",
   "metadata": {},
   "source": [
    "**NOTE**: Here we can see that model is making more errors for type-1 while special characters are included."
   ]
  },
  {
   "cell_type": "code",
   "execution_count": 61,
   "metadata": {},
   "outputs": [],
   "source": [
    "from sklearn.model_selection import GridSearchCV\n",
    "clf = GridSearchCV(estimator=RFC_model_tfidf_schar,param_grid={'n_estimators': [10, 100, 500], 'oob_score': (True, False)}, n_jobs=-1, scoring='f1')"
   ]
  },
  {
   "cell_type": "code",
   "execution_count": 62,
   "metadata": {},
   "outputs": [
    {
     "data": {
      "text/html": [
       "<style>#sk-container-id-1 {\n",
       "  /* Definition of color scheme common for light and dark mode */\n",
       "  --sklearn-color-text: black;\n",
       "  --sklearn-color-line: gray;\n",
       "  /* Definition of color scheme for unfitted estimators */\n",
       "  --sklearn-color-unfitted-level-0: #fff5e6;\n",
       "  --sklearn-color-unfitted-level-1: #f6e4d2;\n",
       "  --sklearn-color-unfitted-level-2: #ffe0b3;\n",
       "  --sklearn-color-unfitted-level-3: chocolate;\n",
       "  /* Definition of color scheme for fitted estimators */\n",
       "  --sklearn-color-fitted-level-0: #f0f8ff;\n",
       "  --sklearn-color-fitted-level-1: #d4ebff;\n",
       "  --sklearn-color-fitted-level-2: #b3dbfd;\n",
       "  --sklearn-color-fitted-level-3: cornflowerblue;\n",
       "\n",
       "  /* Specific color for light theme */\n",
       "  --sklearn-color-text-on-default-background: var(--sg-text-color, var(--theme-code-foreground, var(--jp-content-font-color1, black)));\n",
       "  --sklearn-color-background: var(--sg-background-color, var(--theme-background, var(--jp-layout-color0, white)));\n",
       "  --sklearn-color-border-box: var(--sg-text-color, var(--theme-code-foreground, var(--jp-content-font-color1, black)));\n",
       "  --sklearn-color-icon: #696969;\n",
       "\n",
       "  @media (prefers-color-scheme: dark) {\n",
       "    /* Redefinition of color scheme for dark theme */\n",
       "    --sklearn-color-text-on-default-background: var(--sg-text-color, var(--theme-code-foreground, var(--jp-content-font-color1, white)));\n",
       "    --sklearn-color-background: var(--sg-background-color, var(--theme-background, var(--jp-layout-color0, #111)));\n",
       "    --sklearn-color-border-box: var(--sg-text-color, var(--theme-code-foreground, var(--jp-content-font-color1, white)));\n",
       "    --sklearn-color-icon: #878787;\n",
       "  }\n",
       "}\n",
       "\n",
       "#sk-container-id-1 {\n",
       "  color: var(--sklearn-color-text);\n",
       "}\n",
       "\n",
       "#sk-container-id-1 pre {\n",
       "  padding: 0;\n",
       "}\n",
       "\n",
       "#sk-container-id-1 input.sk-hidden--visually {\n",
       "  border: 0;\n",
       "  clip: rect(1px 1px 1px 1px);\n",
       "  clip: rect(1px, 1px, 1px, 1px);\n",
       "  height: 1px;\n",
       "  margin: -1px;\n",
       "  overflow: hidden;\n",
       "  padding: 0;\n",
       "  position: absolute;\n",
       "  width: 1px;\n",
       "}\n",
       "\n",
       "#sk-container-id-1 div.sk-dashed-wrapped {\n",
       "  border: 1px dashed var(--sklearn-color-line);\n",
       "  margin: 0 0.4em 0.5em 0.4em;\n",
       "  box-sizing: border-box;\n",
       "  padding-bottom: 0.4em;\n",
       "  background-color: var(--sklearn-color-background);\n",
       "}\n",
       "\n",
       "#sk-container-id-1 div.sk-container {\n",
       "  /* jupyter's `normalize.less` sets `[hidden] { display: none; }`\n",
       "     but bootstrap.min.css set `[hidden] { display: none !important; }`\n",
       "     so we also need the `!important` here to be able to override the\n",
       "     default hidden behavior on the sphinx rendered scikit-learn.org.\n",
       "     See: https://github.com/scikit-learn/scikit-learn/issues/21755 */\n",
       "  display: inline-block !important;\n",
       "  position: relative;\n",
       "}\n",
       "\n",
       "#sk-container-id-1 div.sk-text-repr-fallback {\n",
       "  display: none;\n",
       "}\n",
       "\n",
       "div.sk-parallel-item,\n",
       "div.sk-serial,\n",
       "div.sk-item {\n",
       "  /* draw centered vertical line to link estimators */\n",
       "  background-image: linear-gradient(var(--sklearn-color-text-on-default-background), var(--sklearn-color-text-on-default-background));\n",
       "  background-size: 2px 100%;\n",
       "  background-repeat: no-repeat;\n",
       "  background-position: center center;\n",
       "}\n",
       "\n",
       "/* Parallel-specific style estimator block */\n",
       "\n",
       "#sk-container-id-1 div.sk-parallel-item::after {\n",
       "  content: \"\";\n",
       "  width: 100%;\n",
       "  border-bottom: 2px solid var(--sklearn-color-text-on-default-background);\n",
       "  flex-grow: 1;\n",
       "}\n",
       "\n",
       "#sk-container-id-1 div.sk-parallel {\n",
       "  display: flex;\n",
       "  align-items: stretch;\n",
       "  justify-content: center;\n",
       "  background-color: var(--sklearn-color-background);\n",
       "  position: relative;\n",
       "}\n",
       "\n",
       "#sk-container-id-1 div.sk-parallel-item {\n",
       "  display: flex;\n",
       "  flex-direction: column;\n",
       "}\n",
       "\n",
       "#sk-container-id-1 div.sk-parallel-item:first-child::after {\n",
       "  align-self: flex-end;\n",
       "  width: 50%;\n",
       "}\n",
       "\n",
       "#sk-container-id-1 div.sk-parallel-item:last-child::after {\n",
       "  align-self: flex-start;\n",
       "  width: 50%;\n",
       "}\n",
       "\n",
       "#sk-container-id-1 div.sk-parallel-item:only-child::after {\n",
       "  width: 0;\n",
       "}\n",
       "\n",
       "/* Serial-specific style estimator block */\n",
       "\n",
       "#sk-container-id-1 div.sk-serial {\n",
       "  display: flex;\n",
       "  flex-direction: column;\n",
       "  align-items: center;\n",
       "  background-color: var(--sklearn-color-background);\n",
       "  padding-right: 1em;\n",
       "  padding-left: 1em;\n",
       "}\n",
       "\n",
       "\n",
       "/* Toggleable style: style used for estimator/Pipeline/ColumnTransformer box that is\n",
       "clickable and can be expanded/collapsed.\n",
       "- Pipeline and ColumnTransformer use this feature and define the default style\n",
       "- Estimators will overwrite some part of the style using the `sk-estimator` class\n",
       "*/\n",
       "\n",
       "/* Pipeline and ColumnTransformer style (default) */\n",
       "\n",
       "#sk-container-id-1 div.sk-toggleable {\n",
       "  /* Default theme specific background. It is overwritten whether we have a\n",
       "  specific estimator or a Pipeline/ColumnTransformer */\n",
       "  background-color: var(--sklearn-color-background);\n",
       "}\n",
       "\n",
       "/* Toggleable label */\n",
       "#sk-container-id-1 label.sk-toggleable__label {\n",
       "  cursor: pointer;\n",
       "  display: block;\n",
       "  width: 100%;\n",
       "  margin-bottom: 0;\n",
       "  padding: 0.5em;\n",
       "  box-sizing: border-box;\n",
       "  text-align: center;\n",
       "}\n",
       "\n",
       "#sk-container-id-1 label.sk-toggleable__label-arrow:before {\n",
       "  /* Arrow on the left of the label */\n",
       "  content: \"▸\";\n",
       "  float: left;\n",
       "  margin-right: 0.25em;\n",
       "  color: var(--sklearn-color-icon);\n",
       "}\n",
       "\n",
       "#sk-container-id-1 label.sk-toggleable__label-arrow:hover:before {\n",
       "  color: var(--sklearn-color-text);\n",
       "}\n",
       "\n",
       "/* Toggleable content - dropdown */\n",
       "\n",
       "#sk-container-id-1 div.sk-toggleable__content {\n",
       "  max-height: 0;\n",
       "  max-width: 0;\n",
       "  overflow: hidden;\n",
       "  text-align: left;\n",
       "  /* unfitted */\n",
       "  background-color: var(--sklearn-color-unfitted-level-0);\n",
       "}\n",
       "\n",
       "#sk-container-id-1 div.sk-toggleable__content.fitted {\n",
       "  /* fitted */\n",
       "  background-color: var(--sklearn-color-fitted-level-0);\n",
       "}\n",
       "\n",
       "#sk-container-id-1 div.sk-toggleable__content pre {\n",
       "  margin: 0.2em;\n",
       "  border-radius: 0.25em;\n",
       "  color: var(--sklearn-color-text);\n",
       "  /* unfitted */\n",
       "  background-color: var(--sklearn-color-unfitted-level-0);\n",
       "}\n",
       "\n",
       "#sk-container-id-1 div.sk-toggleable__content.fitted pre {\n",
       "  /* unfitted */\n",
       "  background-color: var(--sklearn-color-fitted-level-0);\n",
       "}\n",
       "\n",
       "#sk-container-id-1 input.sk-toggleable__control:checked~div.sk-toggleable__content {\n",
       "  /* Expand drop-down */\n",
       "  max-height: 200px;\n",
       "  max-width: 100%;\n",
       "  overflow: auto;\n",
       "}\n",
       "\n",
       "#sk-container-id-1 input.sk-toggleable__control:checked~label.sk-toggleable__label-arrow:before {\n",
       "  content: \"▾\";\n",
       "}\n",
       "\n",
       "/* Pipeline/ColumnTransformer-specific style */\n",
       "\n",
       "#sk-container-id-1 div.sk-label input.sk-toggleable__control:checked~label.sk-toggleable__label {\n",
       "  color: var(--sklearn-color-text);\n",
       "  background-color: var(--sklearn-color-unfitted-level-2);\n",
       "}\n",
       "\n",
       "#sk-container-id-1 div.sk-label.fitted input.sk-toggleable__control:checked~label.sk-toggleable__label {\n",
       "  background-color: var(--sklearn-color-fitted-level-2);\n",
       "}\n",
       "\n",
       "/* Estimator-specific style */\n",
       "\n",
       "/* Colorize estimator box */\n",
       "#sk-container-id-1 div.sk-estimator input.sk-toggleable__control:checked~label.sk-toggleable__label {\n",
       "  /* unfitted */\n",
       "  background-color: var(--sklearn-color-unfitted-level-2);\n",
       "}\n",
       "\n",
       "#sk-container-id-1 div.sk-estimator.fitted input.sk-toggleable__control:checked~label.sk-toggleable__label {\n",
       "  /* fitted */\n",
       "  background-color: var(--sklearn-color-fitted-level-2);\n",
       "}\n",
       "\n",
       "#sk-container-id-1 div.sk-label label.sk-toggleable__label,\n",
       "#sk-container-id-1 div.sk-label label {\n",
       "  /* The background is the default theme color */\n",
       "  color: var(--sklearn-color-text-on-default-background);\n",
       "}\n",
       "\n",
       "/* On hover, darken the color of the background */\n",
       "#sk-container-id-1 div.sk-label:hover label.sk-toggleable__label {\n",
       "  color: var(--sklearn-color-text);\n",
       "  background-color: var(--sklearn-color-unfitted-level-2);\n",
       "}\n",
       "\n",
       "/* Label box, darken color on hover, fitted */\n",
       "#sk-container-id-1 div.sk-label.fitted:hover label.sk-toggleable__label.fitted {\n",
       "  color: var(--sklearn-color-text);\n",
       "  background-color: var(--sklearn-color-fitted-level-2);\n",
       "}\n",
       "\n",
       "/* Estimator label */\n",
       "\n",
       "#sk-container-id-1 div.sk-label label {\n",
       "  font-family: monospace;\n",
       "  font-weight: bold;\n",
       "  display: inline-block;\n",
       "  line-height: 1.2em;\n",
       "}\n",
       "\n",
       "#sk-container-id-1 div.sk-label-container {\n",
       "  text-align: center;\n",
       "}\n",
       "\n",
       "/* Estimator-specific */\n",
       "#sk-container-id-1 div.sk-estimator {\n",
       "  font-family: monospace;\n",
       "  border: 1px dotted var(--sklearn-color-border-box);\n",
       "  border-radius: 0.25em;\n",
       "  box-sizing: border-box;\n",
       "  margin-bottom: 0.5em;\n",
       "  /* unfitted */\n",
       "  background-color: var(--sklearn-color-unfitted-level-0);\n",
       "}\n",
       "\n",
       "#sk-container-id-1 div.sk-estimator.fitted {\n",
       "  /* fitted */\n",
       "  background-color: var(--sklearn-color-fitted-level-0);\n",
       "}\n",
       "\n",
       "/* on hover */\n",
       "#sk-container-id-1 div.sk-estimator:hover {\n",
       "  /* unfitted */\n",
       "  background-color: var(--sklearn-color-unfitted-level-2);\n",
       "}\n",
       "\n",
       "#sk-container-id-1 div.sk-estimator.fitted:hover {\n",
       "  /* fitted */\n",
       "  background-color: var(--sklearn-color-fitted-level-2);\n",
       "}\n",
       "\n",
       "/* Specification for estimator info (e.g. \"i\" and \"?\") */\n",
       "\n",
       "/* Common style for \"i\" and \"?\" */\n",
       "\n",
       ".sk-estimator-doc-link,\n",
       "a:link.sk-estimator-doc-link,\n",
       "a:visited.sk-estimator-doc-link {\n",
       "  float: right;\n",
       "  font-size: smaller;\n",
       "  line-height: 1em;\n",
       "  font-family: monospace;\n",
       "  background-color: var(--sklearn-color-background);\n",
       "  border-radius: 1em;\n",
       "  height: 1em;\n",
       "  width: 1em;\n",
       "  text-decoration: none !important;\n",
       "  margin-left: 1ex;\n",
       "  /* unfitted */\n",
       "  border: var(--sklearn-color-unfitted-level-1) 1pt solid;\n",
       "  color: var(--sklearn-color-unfitted-level-1);\n",
       "}\n",
       "\n",
       ".sk-estimator-doc-link.fitted,\n",
       "a:link.sk-estimator-doc-link.fitted,\n",
       "a:visited.sk-estimator-doc-link.fitted {\n",
       "  /* fitted */\n",
       "  border: var(--sklearn-color-fitted-level-1) 1pt solid;\n",
       "  color: var(--sklearn-color-fitted-level-1);\n",
       "}\n",
       "\n",
       "/* On hover */\n",
       "div.sk-estimator:hover .sk-estimator-doc-link:hover,\n",
       ".sk-estimator-doc-link:hover,\n",
       "div.sk-label-container:hover .sk-estimator-doc-link:hover,\n",
       ".sk-estimator-doc-link:hover {\n",
       "  /* unfitted */\n",
       "  background-color: var(--sklearn-color-unfitted-level-3);\n",
       "  color: var(--sklearn-color-background);\n",
       "  text-decoration: none;\n",
       "}\n",
       "\n",
       "div.sk-estimator.fitted:hover .sk-estimator-doc-link.fitted:hover,\n",
       ".sk-estimator-doc-link.fitted:hover,\n",
       "div.sk-label-container:hover .sk-estimator-doc-link.fitted:hover,\n",
       ".sk-estimator-doc-link.fitted:hover {\n",
       "  /* fitted */\n",
       "  background-color: var(--sklearn-color-fitted-level-3);\n",
       "  color: var(--sklearn-color-background);\n",
       "  text-decoration: none;\n",
       "}\n",
       "\n",
       "/* Span, style for the box shown on hovering the info icon */\n",
       ".sk-estimator-doc-link span {\n",
       "  display: none;\n",
       "  z-index: 9999;\n",
       "  position: relative;\n",
       "  font-weight: normal;\n",
       "  right: .2ex;\n",
       "  padding: .5ex;\n",
       "  margin: .5ex;\n",
       "  width: min-content;\n",
       "  min-width: 20ex;\n",
       "  max-width: 50ex;\n",
       "  color: var(--sklearn-color-text);\n",
       "  box-shadow: 2pt 2pt 4pt #999;\n",
       "  /* unfitted */\n",
       "  background: var(--sklearn-color-unfitted-level-0);\n",
       "  border: .5pt solid var(--sklearn-color-unfitted-level-3);\n",
       "}\n",
       "\n",
       ".sk-estimator-doc-link.fitted span {\n",
       "  /* fitted */\n",
       "  background: var(--sklearn-color-fitted-level-0);\n",
       "  border: var(--sklearn-color-fitted-level-3);\n",
       "}\n",
       "\n",
       ".sk-estimator-doc-link:hover span {\n",
       "  display: block;\n",
       "}\n",
       "\n",
       "/* \"?\"-specific style due to the `<a>` HTML tag */\n",
       "\n",
       "#sk-container-id-1 a.estimator_doc_link {\n",
       "  float: right;\n",
       "  font-size: 1rem;\n",
       "  line-height: 1em;\n",
       "  font-family: monospace;\n",
       "  background-color: var(--sklearn-color-background);\n",
       "  border-radius: 1rem;\n",
       "  height: 1rem;\n",
       "  width: 1rem;\n",
       "  text-decoration: none;\n",
       "  /* unfitted */\n",
       "  color: var(--sklearn-color-unfitted-level-1);\n",
       "  border: var(--sklearn-color-unfitted-level-1) 1pt solid;\n",
       "}\n",
       "\n",
       "#sk-container-id-1 a.estimator_doc_link.fitted {\n",
       "  /* fitted */\n",
       "  border: var(--sklearn-color-fitted-level-1) 1pt solid;\n",
       "  color: var(--sklearn-color-fitted-level-1);\n",
       "}\n",
       "\n",
       "/* On hover */\n",
       "#sk-container-id-1 a.estimator_doc_link:hover {\n",
       "  /* unfitted */\n",
       "  background-color: var(--sklearn-color-unfitted-level-3);\n",
       "  color: var(--sklearn-color-background);\n",
       "  text-decoration: none;\n",
       "}\n",
       "\n",
       "#sk-container-id-1 a.estimator_doc_link.fitted:hover {\n",
       "  /* fitted */\n",
       "  background-color: var(--sklearn-color-fitted-level-3);\n",
       "}\n",
       "</style><div id=\"sk-container-id-1\" class=\"sk-top-container\"><div class=\"sk-text-repr-fallback\"><pre>GridSearchCV(estimator=RandomForestClassifier(), n_jobs=-1,\n",
       "             param_grid={&#x27;n_estimators&#x27;: [10, 100, 500],\n",
       "                         &#x27;oob_score&#x27;: (True, False)},\n",
       "             scoring=&#x27;f1&#x27;)</pre><b>In a Jupyter environment, please rerun this cell to show the HTML representation or trust the notebook. <br />On GitHub, the HTML representation is unable to render, please try loading this page with nbviewer.org.</b></div><div class=\"sk-container\" hidden><div class=\"sk-item sk-dashed-wrapped\"><div class=\"sk-label-container\"><div class=\"sk-label fitted sk-toggleable\"><input class=\"sk-toggleable__control sk-hidden--visually\" id=\"sk-estimator-id-1\" type=\"checkbox\" ><label for=\"sk-estimator-id-1\" class=\"sk-toggleable__label fitted sk-toggleable__label-arrow fitted\">&nbsp;&nbsp;GridSearchCV<a class=\"sk-estimator-doc-link fitted\" rel=\"noreferrer\" target=\"_blank\" href=\"https://scikit-learn.org/1.4/modules/generated/sklearn.model_selection.GridSearchCV.html\">?<span>Documentation for GridSearchCV</span></a><span class=\"sk-estimator-doc-link fitted\">i<span>Fitted</span></span></label><div class=\"sk-toggleable__content fitted\"><pre>GridSearchCV(estimator=RandomForestClassifier(), n_jobs=-1,\n",
       "             param_grid={&#x27;n_estimators&#x27;: [10, 100, 500],\n",
       "                         &#x27;oob_score&#x27;: (True, False)},\n",
       "             scoring=&#x27;f1&#x27;)</pre></div> </div></div><div class=\"sk-parallel\"><div class=\"sk-parallel-item\"><div class=\"sk-item\"><div class=\"sk-label-container\"><div class=\"sk-label fitted sk-toggleable\"><input class=\"sk-toggleable__control sk-hidden--visually\" id=\"sk-estimator-id-2\" type=\"checkbox\" ><label for=\"sk-estimator-id-2\" class=\"sk-toggleable__label fitted sk-toggleable__label-arrow fitted\">estimator: RandomForestClassifier</label><div class=\"sk-toggleable__content fitted\"><pre>RandomForestClassifier()</pre></div> </div></div><div class=\"sk-serial\"><div class=\"sk-item\"><div class=\"sk-estimator fitted sk-toggleable\"><input class=\"sk-toggleable__control sk-hidden--visually\" id=\"sk-estimator-id-3\" type=\"checkbox\" ><label for=\"sk-estimator-id-3\" class=\"sk-toggleable__label fitted sk-toggleable__label-arrow fitted\">&nbsp;RandomForestClassifier<a class=\"sk-estimator-doc-link fitted\" rel=\"noreferrer\" target=\"_blank\" href=\"https://scikit-learn.org/1.4/modules/generated/sklearn.ensemble.RandomForestClassifier.html\">?<span>Documentation for RandomForestClassifier</span></a></label><div class=\"sk-toggleable__content fitted\"><pre>RandomForestClassifier()</pre></div> </div></div></div></div></div></div></div></div></div>"
      ],
      "text/plain": [
       "GridSearchCV(estimator=RandomForestClassifier(), n_jobs=-1,\n",
       "             param_grid={'n_estimators': [10, 100, 500],\n",
       "                         'oob_score': (True, False)},\n",
       "             scoring='f1')"
      ]
     },
     "execution_count": 62,
     "metadata": {},
     "output_type": "execute_result"
    }
   ],
   "source": [
    "clf.fit(X_train_tfidfvec_schar, y_train_schar)"
   ]
  },
  {
   "cell_type": "code",
   "execution_count": 63,
   "metadata": {},
   "outputs": [
    {
     "data": {
      "text/html": [
       "<div>\n",
       "<style scoped>\n",
       "    .dataframe tbody tr th:only-of-type {\n",
       "        vertical-align: middle;\n",
       "    }\n",
       "\n",
       "    .dataframe tbody tr th {\n",
       "        vertical-align: top;\n",
       "    }\n",
       "\n",
       "    .dataframe thead th {\n",
       "        text-align: right;\n",
       "    }\n",
       "</style>\n",
       "<table border=\"1\" class=\"dataframe\">\n",
       "  <thead>\n",
       "    <tr style=\"text-align: right;\">\n",
       "      <th></th>\n",
       "      <th>mean_fit_time</th>\n",
       "      <th>std_fit_time</th>\n",
       "      <th>mean_score_time</th>\n",
       "      <th>std_score_time</th>\n",
       "      <th>param_n_estimators</th>\n",
       "      <th>param_oob_score</th>\n",
       "      <th>params</th>\n",
       "      <th>split0_test_score</th>\n",
       "      <th>split1_test_score</th>\n",
       "      <th>split2_test_score</th>\n",
       "      <th>split3_test_score</th>\n",
       "      <th>split4_test_score</th>\n",
       "      <th>mean_test_score</th>\n",
       "      <th>std_test_score</th>\n",
       "      <th>rank_test_score</th>\n",
       "    </tr>\n",
       "  </thead>\n",
       "  <tbody>\n",
       "    <tr>\n",
       "      <th>2</th>\n",
       "      <td>20.525228</td>\n",
       "      <td>0.540647</td>\n",
       "      <td>0.923246</td>\n",
       "      <td>0.103349</td>\n",
       "      <td>100</td>\n",
       "      <td>True</td>\n",
       "      <td>{'n_estimators': 100, 'oob_score': True}</td>\n",
       "      <td>0.993955</td>\n",
       "      <td>0.992036</td>\n",
       "      <td>0.990744</td>\n",
       "      <td>0.990112</td>\n",
       "      <td>0.993318</td>\n",
       "      <td>0.992033</td>\n",
       "      <td>0.001463</td>\n",
       "      <td>1</td>\n",
       "    </tr>\n",
       "    <tr>\n",
       "      <th>4</th>\n",
       "      <td>75.860166</td>\n",
       "      <td>13.950452</td>\n",
       "      <td>2.482439</td>\n",
       "      <td>1.463799</td>\n",
       "      <td>500</td>\n",
       "      <td>True</td>\n",
       "      <td>{'n_estimators': 500, 'oob_score': True}</td>\n",
       "      <td>0.993955</td>\n",
       "      <td>0.992031</td>\n",
       "      <td>0.991066</td>\n",
       "      <td>0.989789</td>\n",
       "      <td>0.993318</td>\n",
       "      <td>0.992032</td>\n",
       "      <td>0.001504</td>\n",
       "      <td>2</td>\n",
       "    </tr>\n",
       "    <tr>\n",
       "      <th>3</th>\n",
       "      <td>17.294244</td>\n",
       "      <td>1.749885</td>\n",
       "      <td>0.792678</td>\n",
       "      <td>0.256979</td>\n",
       "      <td>100</td>\n",
       "      <td>False</td>\n",
       "      <td>{'n_estimators': 100, 'oob_score': False}</td>\n",
       "      <td>0.993635</td>\n",
       "      <td>0.991714</td>\n",
       "      <td>0.990750</td>\n",
       "      <td>0.990112</td>\n",
       "      <td>0.993318</td>\n",
       "      <td>0.991906</td>\n",
       "      <td>0.001384</td>\n",
       "      <td>3</td>\n",
       "    </tr>\n",
       "    <tr>\n",
       "      <th>5</th>\n",
       "      <td>49.122641</td>\n",
       "      <td>9.612325</td>\n",
       "      <td>2.201814</td>\n",
       "      <td>1.285564</td>\n",
       "      <td>500</td>\n",
       "      <td>False</td>\n",
       "      <td>{'n_estimators': 500, 'oob_score': False}</td>\n",
       "      <td>0.993955</td>\n",
       "      <td>0.991399</td>\n",
       "      <td>0.991066</td>\n",
       "      <td>0.989474</td>\n",
       "      <td>0.993318</td>\n",
       "      <td>0.991842</td>\n",
       "      <td>0.001616</td>\n",
       "      <td>4</td>\n",
       "    </tr>\n",
       "    <tr>\n",
       "      <th>0</th>\n",
       "      <td>2.117846</td>\n",
       "      <td>0.584703</td>\n",
       "      <td>0.145421</td>\n",
       "      <td>0.013017</td>\n",
       "      <td>10</td>\n",
       "      <td>True</td>\n",
       "      <td>{'n_estimators': 10, 'oob_score': True}</td>\n",
       "      <td>0.993635</td>\n",
       "      <td>0.992352</td>\n",
       "      <td>0.989783</td>\n",
       "      <td>0.989467</td>\n",
       "      <td>0.993318</td>\n",
       "      <td>0.991711</td>\n",
       "      <td>0.001758</td>\n",
       "      <td>5</td>\n",
       "    </tr>\n",
       "    <tr>\n",
       "      <th>1</th>\n",
       "      <td>1.847242</td>\n",
       "      <td>0.153225</td>\n",
       "      <td>0.119436</td>\n",
       "      <td>0.020306</td>\n",
       "      <td>10</td>\n",
       "      <td>False</td>\n",
       "      <td>{'n_estimators': 10, 'oob_score': False}</td>\n",
       "      <td>0.993003</td>\n",
       "      <td>0.991399</td>\n",
       "      <td>0.990099</td>\n",
       "      <td>0.989474</td>\n",
       "      <td>0.993318</td>\n",
       "      <td>0.991458</td>\n",
       "      <td>0.001525</td>\n",
       "      <td>6</td>\n",
       "    </tr>\n",
       "  </tbody>\n",
       "</table>\n",
       "</div>"
      ],
      "text/plain": [
       "   mean_fit_time  std_fit_time  mean_score_time  std_score_time  \\\n",
       "2      20.525228      0.540647         0.923246        0.103349   \n",
       "4      75.860166     13.950452         2.482439        1.463799   \n",
       "3      17.294244      1.749885         0.792678        0.256979   \n",
       "5      49.122641      9.612325         2.201814        1.285564   \n",
       "0       2.117846      0.584703         0.145421        0.013017   \n",
       "1       1.847242      0.153225         0.119436        0.020306   \n",
       "\n",
       "  param_n_estimators param_oob_score  \\\n",
       "2                100            True   \n",
       "4                500            True   \n",
       "3                100           False   \n",
       "5                500           False   \n",
       "0                 10            True   \n",
       "1                 10           False   \n",
       "\n",
       "                                      params  split0_test_score  \\\n",
       "2   {'n_estimators': 100, 'oob_score': True}           0.993955   \n",
       "4   {'n_estimators': 500, 'oob_score': True}           0.993955   \n",
       "3  {'n_estimators': 100, 'oob_score': False}           0.993635   \n",
       "5  {'n_estimators': 500, 'oob_score': False}           0.993955   \n",
       "0    {'n_estimators': 10, 'oob_score': True}           0.993635   \n",
       "1   {'n_estimators': 10, 'oob_score': False}           0.993003   \n",
       "\n",
       "   split1_test_score  split2_test_score  split3_test_score  split4_test_score  \\\n",
       "2           0.992036           0.990744           0.990112           0.993318   \n",
       "4           0.992031           0.991066           0.989789           0.993318   \n",
       "3           0.991714           0.990750           0.990112           0.993318   \n",
       "5           0.991399           0.991066           0.989474           0.993318   \n",
       "0           0.992352           0.989783           0.989467           0.993318   \n",
       "1           0.991399           0.990099           0.989474           0.993318   \n",
       "\n",
       "   mean_test_score  std_test_score  rank_test_score  \n",
       "2         0.992033        0.001463                1  \n",
       "4         0.992032        0.001504                2  \n",
       "3         0.991906        0.001384                3  \n",
       "5         0.991842        0.001616                4  \n",
       "0         0.991711        0.001758                5  \n",
       "1         0.991458        0.001525                6  "
      ]
     },
     "execution_count": 63,
     "metadata": {},
     "output_type": "execute_result"
    }
   ],
   "source": [
    "cv_results = pd.DataFrame(clf.cv_results_)\n",
    "cv_results.sort_values(by='rank_test_score')"
   ]
  },
  {
   "cell_type": "code",
   "execution_count": 64,
   "metadata": {},
   "outputs": [],
   "source": [
    "\n",
    "RFC_model_tfidf_schar_bestCV = clf.best_estimator_"
   ]
  },
  {
   "cell_type": "code",
   "execution_count": 65,
   "metadata": {},
   "outputs": [
    {
     "data": {
      "text/plain": [
       "0.9948712352684417"
      ]
     },
     "execution_count": 65,
     "metadata": {},
     "output_type": "execute_result"
    }
   ],
   "source": [
    "# RFC_model_tfidf_schar_bestCV.fit(X_train_tfidfvec_schar, y_train_schar)\n",
    "RFC_model_tfidf_schar_bestCV.score(X_test_tfidfvec_schar, y_test_schar)"
   ]
  },
  {
   "cell_type": "code",
   "execution_count": 66,
   "metadata": {},
   "outputs": [
    {
     "name": "stdout",
     "output_type": "stream",
     "text": [
      "F1 Score for simple model :  99.31 %\n"
     ]
    },
    {
     "data": {
      "text/plain": [
       "<sklearn.metrics._plot.confusion_matrix.ConfusionMatrixDisplay at 0x2004d7c1450>"
      ]
     },
     "execution_count": 66,
     "metadata": {},
     "output_type": "execute_result"
    },
    {
     "data": {
      "image/png": "[encoded data removed]",
      "text/plain": [
       "<Figure size 640x480 with 2 Axes>"
      ]
     },
     "metadata": {},
     "output_type": "display_data"
    }
   ],
   "source": [
    "RFC_model_tfidf_y_pred_schar = RFC_model_tfidf_schar_bestCV.predict(X_test_tfidfvec_schar)\n",
    "print(\"F1 Score for simple model : \", round(f1_score(y_test_schar, RFC_model_tfidf_y_pred_schar)*100,2),\"%\")\n",
    "cm_1 = ConfusionMatrixDisplay(confusion_matrix(y_test_schar, RFC_model_tfidf_y_pred_schar))\n",
    "cm_1.plot()"
   ]
  },
  {
   "cell_type": "markdown",
   "metadata": {},
   "source": [
    "Even After doing hyperparameter tuning, we are not getting better score with special characters.  "
   ]
  },
  {
   "cell_type": "markdown",
   "metadata": {},
   "source": [
    "## Conclusion\n",
    "1. We get better results by removing special characters.\n",
    "2. We get almost same result for normal count vectorizer and TFIDF vectorizer.\n",
    "3. Random Forest model with default parameters works the best."
   ]
  },
  {
   "cell_type": "code",
   "execution_count": 67,
   "metadata": {},
   "outputs": [],
   "source": [
    "import pickle"
   ]
  },
  {
   "cell_type": "code",
   "execution_count": 68,
   "metadata": {},
   "outputs": [],
   "source": [
    "import pickle\n",
    "filename='sql.sav'\n",
    "pickle.dump(RFC_model ,open('sql.sav','wb'))\n",
    "loaded_model=pickle.load(open('sql.sav','rb'))"
   ]
  },
  {
   "cell_type": "code",
   "execution_count": null,
   "metadata": {},
   "outputs": [],
   "source": []
  }
 ],
 "metadata": {
  "interpreter": {
   "hash": "50b7b7039633aa29578af233b219e5c1be76f227168bf566501c2bcf30befc26"
  },
  "kernelspec": {
   "display_name": "Python 3 (ipykernel)",
   "language": "python",
   "name": "python3"
  },
  "language_info": {
   "codemirror_mode": {
    "name": "ipython",
    "version": 3
   },
   "file_extension": ".py",
   "mimetype": "text/x-python",
   "name": "python",
   "nbconvert_exporter": "python",
   "pygments_lexer": "ipython3",
   "version": "3.11.5"
  }
 },
 "nbformat": 4,
 "nbformat_minor": 4
}
